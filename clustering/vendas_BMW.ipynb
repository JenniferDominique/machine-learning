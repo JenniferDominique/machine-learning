{
  "nbformat": 4,
  "nbformat_minor": 0,
  "metadata": {
    "colab": {
      "name": "vendas_BMW",
      "provenance": []
    },
    "kernelspec": {
      "name": "python3",
      "display_name": "Python 3"
    },
    "language_info": {
      "name": "python"
    }
  },
  "cells": [
    {
      "cell_type": "markdown",
      "metadata": {
        "id": "ltalWodeXZy2"
      },
      "source": [
        "\n",
        "  \n",
        "  # **🧪 Laboratório # 9**\n",
        "\n",
        "  ### ASSUNTO: 📈 Agrupamento (Clustering) usando K-means com Python\n",
        "\n",
        "\n",
        "\n",
        "---\n"
      ]
    },
    {
      "cell_type": "markdown",
      "metadata": {
        "id": "rXbxWNXrX6Dm"
      },
      "source": [
        "### 📚 Materiais de apoio\n",
        "\n",
        "- [Scikit Learn](scikit-learn.org/)\n",
        "- [Clustering em Python](https://minerandodados.com.br/analise-e-agrupamento-de-clientes-com-machine-learning-k-means/)\n",
        "- [Youtube - Material bem interessante para Clustering em Python](www.youtube.com/watch?v=piDlrtfz58s)"
      ]
    },
    {
      "cell_type": "markdown",
      "metadata": {
        "id": "bc8GyAOIYiEt"
      },
      "source": [
        "### 📥 Importando as bibliotecas"
      ]
    },
    {
      "cell_type": "code",
      "metadata": {
        "id": "YNlaO4EKXOf6"
      },
      "source": [
        "import matplotlib.pyplot as plt\n",
        "import pandas as pd\n",
        "from sklearn.cluster import KMeans"
      ],
      "execution_count": 22,
      "outputs": []
    },
    {
      "cell_type": "markdown",
      "metadata": {
        "id": "WdPl9gs2ZDNp"
      },
      "source": [
        "### 📄 Dados utilizados nesse notebook\n",
        "\n",
        "Fazendo a leitura do arquivo que contém os dados (dataframe - df) que serão analisados nesse notebook.\n",
        "\n",
        "O dataframe utilizado nesse projeto será sobre os carros da BMW, onde temos os clientes e suas features sobre: (1 - sim, 0 - não)\n",
        "- Se o cliente falou com a revenda ou não\n",
        "- Se o cliente foi no *showroom*, na loja de venda de carros\n",
        "- Se ele fez pesquisa de carro pelo computador\n",
        "- Se demonstrou interesse em algum modelo de carro (M5, 3Series, Z4)\n",
        "- Se fez o orçamento de finançamento\n",
        "- E se comprou algum carro"
      ]
    },
    {
      "cell_type": "code",
      "metadata": {
        "id": "845ze4gwZUrF",
        "colab": {
          "base_uri": "https://localhost:8080/",
          "height": 224
        },
        "outputId": "242330f7-aebf-456e-d172-ccd366d3c55e"
      },
      "source": [
        "url = 'https://raw.githubusercontent.com/JenniferDominique/machine-learning/main/data/bmw.csv'\n",
        "\n",
        "# leitura de dados (CSV), separados por ponto e vírgula no nesse caso\n",
        "df = pd.read_csv(url, delimiter=';', error_bad_lines=False)\n",
        "df.head() #Exibindo os 5 primeiros dados do dataframe"
      ],
      "execution_count": 3,
      "outputs": [
        {
          "output_type": "execute_result",
          "data": {
            "text/html": [
              "<div>\n",
              "<style scoped>\n",
              "    .dataframe tbody tr th:only-of-type {\n",
              "        vertical-align: middle;\n",
              "    }\n",
              "\n",
              "    .dataframe tbody tr th {\n",
              "        vertical-align: top;\n",
              "    }\n",
              "\n",
              "    .dataframe thead th {\n",
              "        text-align: right;\n",
              "    }\n",
              "</style>\n",
              "<table border=\"1\" class=\"dataframe\">\n",
              "  <thead>\n",
              "    <tr style=\"text-align: right;\">\n",
              "      <th></th>\n",
              "      <th>CustomerID</th>\n",
              "      <th>Dealership</th>\n",
              "      <th>Showroom</th>\n",
              "      <th>ComputerSearch</th>\n",
              "      <th>M5</th>\n",
              "      <th>3Series</th>\n",
              "      <th>Z4</th>\n",
              "      <th>Financing</th>\n",
              "      <th>Purchase</th>\n",
              "    </tr>\n",
              "  </thead>\n",
              "  <tbody>\n",
              "    <tr>\n",
              "      <th>0</th>\n",
              "      <td>1</td>\n",
              "      <td>1</td>\n",
              "      <td>0</td>\n",
              "      <td>0</td>\n",
              "      <td>0</td>\n",
              "      <td>0</td>\n",
              "      <td>0</td>\n",
              "      <td>0</td>\n",
              "      <td>0</td>\n",
              "    </tr>\n",
              "    <tr>\n",
              "      <th>1</th>\n",
              "      <td>2</td>\n",
              "      <td>1</td>\n",
              "      <td>1</td>\n",
              "      <td>1</td>\n",
              "      <td>0</td>\n",
              "      <td>0</td>\n",
              "      <td>0</td>\n",
              "      <td>1</td>\n",
              "      <td>0</td>\n",
              "    </tr>\n",
              "    <tr>\n",
              "      <th>2</th>\n",
              "      <td>3</td>\n",
              "      <td>1</td>\n",
              "      <td>0</td>\n",
              "      <td>0</td>\n",
              "      <td>0</td>\n",
              "      <td>0</td>\n",
              "      <td>0</td>\n",
              "      <td>0</td>\n",
              "      <td>0</td>\n",
              "    </tr>\n",
              "    <tr>\n",
              "      <th>3</th>\n",
              "      <td>4</td>\n",
              "      <td>1</td>\n",
              "      <td>1</td>\n",
              "      <td>1</td>\n",
              "      <td>1</td>\n",
              "      <td>0</td>\n",
              "      <td>0</td>\n",
              "      <td>1</td>\n",
              "      <td>1</td>\n",
              "    </tr>\n",
              "    <tr>\n",
              "      <th>4</th>\n",
              "      <td>5</td>\n",
              "      <td>1</td>\n",
              "      <td>0</td>\n",
              "      <td>1</td>\n",
              "      <td>1</td>\n",
              "      <td>1</td>\n",
              "      <td>0</td>\n",
              "      <td>1</td>\n",
              "      <td>1</td>\n",
              "    </tr>\n",
              "  </tbody>\n",
              "</table>\n",
              "</div>"
            ],
            "text/plain": [
              "   CustomerID   Dealership   Showroom  ...   Z4   Financing   Purchase\n",
              "0           1            1          0  ...    0           0          0\n",
              "1           2            1          1  ...    0           1          0\n",
              "2           3            1          0  ...    0           0          0\n",
              "3           4            1          1  ...    0           1          1\n",
              "4           5            1          0  ...    0           1          1\n",
              "\n",
              "[5 rows x 9 columns]"
            ]
          },
          "metadata": {},
          "execution_count": 3
        }
      ]
    },
    {
      "cell_type": "markdown",
      "metadata": {
        "id": "Zl7Mz6xwkPWI"
      },
      "source": [
        "Informações quantitativas do dataframe: 100 linhas e 9 colunas"
      ]
    },
    {
      "cell_type": "code",
      "metadata": {
        "colab": {
          "base_uri": "https://localhost:8080/"
        },
        "id": "cp3_T1x8kIwf",
        "outputId": "aacaa001-04e9-4724-aa83-b20e3e38f8ea"
      },
      "source": [
        "df.shape"
      ],
      "execution_count": 5,
      "outputs": [
        {
          "output_type": "execute_result",
          "data": {
            "text/plain": [
              "(100, 9)"
            ]
          },
          "metadata": {},
          "execution_count": 5
        }
      ]
    },
    {
      "cell_type": "code",
      "metadata": {
        "colab": {
          "base_uri": "https://localhost:8080/",
          "height": 317
        },
        "id": "_ZVFsfct07LT",
        "outputId": "da3ab75c-d696-46a5-fabd-fa46182ad58c"
      },
      "source": [
        "df.describe()"
      ],
      "execution_count": 23,
      "outputs": [
        {
          "output_type": "execute_result",
          "data": {
            "text/html": [
              "<div>\n",
              "<style scoped>\n",
              "    .dataframe tbody tr th:only-of-type {\n",
              "        vertical-align: middle;\n",
              "    }\n",
              "\n",
              "    .dataframe tbody tr th {\n",
              "        vertical-align: top;\n",
              "    }\n",
              "\n",
              "    .dataframe thead th {\n",
              "        text-align: right;\n",
              "    }\n",
              "</style>\n",
              "<table border=\"1\" class=\"dataframe\">\n",
              "  <thead>\n",
              "    <tr style=\"text-align: right;\">\n",
              "      <th></th>\n",
              "      <th>CustomerID</th>\n",
              "      <th>Dealership</th>\n",
              "      <th>Showroom</th>\n",
              "      <th>ComputerSearch</th>\n",
              "      <th>M5</th>\n",
              "      <th>3Series</th>\n",
              "      <th>Z4</th>\n",
              "      <th>Financing</th>\n",
              "      <th>Purchase</th>\n",
              "    </tr>\n",
              "  </thead>\n",
              "  <tbody>\n",
              "    <tr>\n",
              "      <th>count</th>\n",
              "      <td>100.000000</td>\n",
              "      <td>100.000000</td>\n",
              "      <td>100.000000</td>\n",
              "      <td>100.00000</td>\n",
              "      <td>100.000000</td>\n",
              "      <td>100.00</td>\n",
              "      <td>100.00</td>\n",
              "      <td>100.000000</td>\n",
              "      <td>100.000000</td>\n",
              "    </tr>\n",
              "    <tr>\n",
              "      <th>mean</th>\n",
              "      <td>50.500000</td>\n",
              "      <td>0.600000</td>\n",
              "      <td>0.720000</td>\n",
              "      <td>0.43000</td>\n",
              "      <td>0.530000</td>\n",
              "      <td>0.55</td>\n",
              "      <td>0.45</td>\n",
              "      <td>0.610000</td>\n",
              "      <td>0.390000</td>\n",
              "    </tr>\n",
              "    <tr>\n",
              "      <th>std</th>\n",
              "      <td>29.011492</td>\n",
              "      <td>0.492366</td>\n",
              "      <td>0.451261</td>\n",
              "      <td>0.49757</td>\n",
              "      <td>0.501614</td>\n",
              "      <td>0.50</td>\n",
              "      <td>0.50</td>\n",
              "      <td>0.490207</td>\n",
              "      <td>0.490207</td>\n",
              "    </tr>\n",
              "    <tr>\n",
              "      <th>min</th>\n",
              "      <td>1.000000</td>\n",
              "      <td>0.000000</td>\n",
              "      <td>0.000000</td>\n",
              "      <td>0.00000</td>\n",
              "      <td>0.000000</td>\n",
              "      <td>0.00</td>\n",
              "      <td>0.00</td>\n",
              "      <td>0.000000</td>\n",
              "      <td>0.000000</td>\n",
              "    </tr>\n",
              "    <tr>\n",
              "      <th>25%</th>\n",
              "      <td>25.750000</td>\n",
              "      <td>0.000000</td>\n",
              "      <td>0.000000</td>\n",
              "      <td>0.00000</td>\n",
              "      <td>0.000000</td>\n",
              "      <td>0.00</td>\n",
              "      <td>0.00</td>\n",
              "      <td>0.000000</td>\n",
              "      <td>0.000000</td>\n",
              "    </tr>\n",
              "    <tr>\n",
              "      <th>50%</th>\n",
              "      <td>50.500000</td>\n",
              "      <td>1.000000</td>\n",
              "      <td>1.000000</td>\n",
              "      <td>0.00000</td>\n",
              "      <td>1.000000</td>\n",
              "      <td>1.00</td>\n",
              "      <td>0.00</td>\n",
              "      <td>1.000000</td>\n",
              "      <td>0.000000</td>\n",
              "    </tr>\n",
              "    <tr>\n",
              "      <th>75%</th>\n",
              "      <td>75.250000</td>\n",
              "      <td>1.000000</td>\n",
              "      <td>1.000000</td>\n",
              "      <td>1.00000</td>\n",
              "      <td>1.000000</td>\n",
              "      <td>1.00</td>\n",
              "      <td>1.00</td>\n",
              "      <td>1.000000</td>\n",
              "      <td>1.000000</td>\n",
              "    </tr>\n",
              "    <tr>\n",
              "      <th>max</th>\n",
              "      <td>100.000000</td>\n",
              "      <td>1.000000</td>\n",
              "      <td>1.000000</td>\n",
              "      <td>1.00000</td>\n",
              "      <td>1.000000</td>\n",
              "      <td>1.00</td>\n",
              "      <td>1.00</td>\n",
              "      <td>1.000000</td>\n",
              "      <td>1.000000</td>\n",
              "    </tr>\n",
              "  </tbody>\n",
              "</table>\n",
              "</div>"
            ],
            "text/plain": [
              "       CustomerID   Dealership    Showroom  ...      Z4   Financing    Purchase\n",
              "count  100.000000   100.000000  100.000000  ...  100.00  100.000000  100.000000\n",
              "mean    50.500000     0.600000    0.720000  ...    0.45    0.610000    0.390000\n",
              "std     29.011492     0.492366    0.451261  ...    0.50    0.490207    0.490207\n",
              "min      1.000000     0.000000    0.000000  ...    0.00    0.000000    0.000000\n",
              "25%     25.750000     0.000000    0.000000  ...    0.00    0.000000    0.000000\n",
              "50%     50.500000     1.000000    1.000000  ...    0.00    1.000000    0.000000\n",
              "75%     75.250000     1.000000    1.000000  ...    1.00    1.000000    1.000000\n",
              "max    100.000000     1.000000    1.000000  ...    1.00    1.000000    1.000000\n",
              "\n",
              "[8 rows x 9 columns]"
            ]
          },
          "metadata": {},
          "execution_count": 23
        }
      ]
    },
    {
      "cell_type": "markdown",
      "metadata": {
        "id": "mNBkO_pfkmZs"
      },
      "source": [
        "### 🏭 Data preparation\n",
        "\n",
        "Para Agrupamento (clustering), feature \"id\" não é bem-vinda. Então vamos excluir o CustomerID.\n",
        "\n",
        "Agora ficará: 0.Dealership, 1.Showroom, 2.ComputerSearch, 3.M5, 4.3Series, 5.Z4, 6.Financing, 7.Purchase\n"
      ]
    },
    {
      "cell_type": "code",
      "metadata": {
        "id": "x8n_MLdSkhq2"
      },
      "source": [
        "Xbmw = df.iloc[:, 1:9].values"
      ],
      "execution_count": 6,
      "outputs": []
    },
    {
      "cell_type": "markdown",
      "metadata": {
        "id": "VGIunyXkaC5y"
      },
      "source": [
        "### 📦 Agrupamento (Clustering) usando K-means\n",
        "\n",
        "Criação do modelo de Agrupamento (Clustering) usando K-Means.\n",
        "\n",
        "Parametrizando K-Means com 3 Clusters e Método de Inicialização Randômica.\n"
      ]
    },
    {
      "cell_type": "code",
      "metadata": {
        "colab": {
          "base_uri": "https://localhost:8080/"
        },
        "id": "oxs08KN1aD2L",
        "outputId": "04ea060f-bba6-41ba-b7ef-50d4ae6911ab"
      },
      "source": [
        "kmeans = KMeans(n_clusters = 3, init = 'random')\n",
        "kmeans"
      ],
      "execution_count": 7,
      "outputs": [
        {
          "output_type": "execute_result",
          "data": {
            "text/plain": [
              "KMeans(algorithm='auto', copy_x=True, init='random', max_iter=300, n_clusters=3,\n",
              "       n_init=10, n_jobs=None, precompute_distances='auto', random_state=None,\n",
              "       tol=0.0001, verbose=0)"
            ]
          },
          "metadata": {},
          "execution_count": 7
        }
      ]
    },
    {
      "cell_type": "markdown",
      "metadata": {
        "id": "ayvuF0RAmmxQ"
      },
      "source": [
        "Treinando o modelo com os dados."
      ]
    },
    {
      "cell_type": "code",
      "metadata": {
        "colab": {
          "base_uri": "https://localhost:8080/"
        },
        "id": "K8In_t1MmkP7",
        "outputId": "094abacd-41fd-43eb-89e1-6c257308468b"
      },
      "source": [
        "kmeans.fit(Xbmw)"
      ],
      "execution_count": 8,
      "outputs": [
        {
          "output_type": "execute_result",
          "data": {
            "text/plain": [
              "KMeans(algorithm='auto', copy_x=True, init='random', max_iter=300, n_clusters=3,\n",
              "       n_init=10, n_jobs=None, precompute_distances='auto', random_state=None,\n",
              "       tol=0.0001, verbose=0)"
            ]
          },
          "metadata": {},
          "execution_count": 8
        }
      ]
    },
    {
      "cell_type": "markdown",
      "metadata": {
        "id": "nywBVyJ4mwCI"
      },
      "source": [
        "Exibindo os **Centroids** - São 3 grupos, portanto, 3 linhas com 8 colunas *= 8 features*"
      ]
    },
    {
      "cell_type": "code",
      "metadata": {
        "colab": {
          "base_uri": "https://localhost:8080/"
        },
        "id": "u2EZriU_m7Uk",
        "outputId": "315134bd-9a01-4c02-a6e9-d9c6f12145f4"
      },
      "source": [
        "kmeans.cluster_centers_"
      ],
      "execution_count": 9,
      "outputs": [
        {
          "output_type": "execute_result",
          "data": {
            "text/plain": [
              "array([[ 9.73684211e-01,  6.57894737e-01,  5.26315789e-01,\n",
              "         6.31578947e-01,  3.68421053e-01,  4.47368421e-01,\n",
              "         4.21052632e-01, -1.66533454e-16],\n",
              "       [ 7.41935484e-01,  5.80645161e-01,  4.51612903e-01,\n",
              "         8.38709677e-01,  3.22580645e-01,  2.90322581e-01,\n",
              "         1.00000000e+00,  9.67741935e-01],\n",
              "       [-1.11022302e-16,  9.35483871e-01,  2.90322581e-01,\n",
              "         9.67741935e-02,  1.00000000e+00,  6.12903226e-01,\n",
              "         4.51612903e-01,  2.90322581e-01]])"
            ]
          },
          "metadata": {},
          "execution_count": 9
        }
      ]
    },
    {
      "cell_type": "markdown",
      "metadata": {
        "id": "XRPAUHmAnA03"
      },
      "source": [
        "Treinando novamente o modelo com os Dados.\n",
        "\n",
        "Observe que novos **Centroids** são calculados (inicialização randômica!)"
      ]
    },
    {
      "cell_type": "code",
      "metadata": {
        "colab": {
          "base_uri": "https://localhost:8080/"
        },
        "id": "5GJvj1xknaMJ",
        "outputId": "2555a7c5-5666-432c-a0f5-e4ec5ccc7f8a"
      },
      "source": [
        "kmeans.fit(Xbmw)"
      ],
      "execution_count": 10,
      "outputs": [
        {
          "output_type": "execute_result",
          "data": {
            "text/plain": [
              "KMeans(algorithm='auto', copy_x=True, init='random', max_iter=300, n_clusters=3,\n",
              "       n_init=10, n_jobs=None, precompute_distances='auto', random_state=None,\n",
              "       tol=0.0001, verbose=0)"
            ]
          },
          "metadata": {},
          "execution_count": 10
        }
      ]
    },
    {
      "cell_type": "markdown",
      "metadata": {
        "id": "RrSt8TaFnhtT"
      },
      "source": [
        "Exibindo os **Centroids** - São 3 grupos, portanto, 3 linhas com 8 colunas *= 8 features*"
      ]
    },
    {
      "cell_type": "code",
      "metadata": {
        "colab": {
          "base_uri": "https://localhost:8080/"
        },
        "id": "uxFrOFd2nppw",
        "outputId": "0164df34-58dc-437b-e6a5-67ef1047f230"
      },
      "source": [
        "kmeans.cluster_centers_"
      ],
      "execution_count": 11,
      "outputs": [
        {
          "output_type": "execute_result",
          "data": {
            "text/plain": [
              "array([[ 9.33333333e-01,  5.00000000e-01,  5.66666667e-01,\n",
              "         6.00000000e-01,  3.33333333e-01,  3.00000000e-01,\n",
              "         2.66666667e-01, -5.55111512e-17],\n",
              "       [ 7.69230769e-01,  6.66666667e-01,  3.84615385e-01,\n",
              "         8.71794872e-01,  3.58974359e-01,  3.84615385e-01,\n",
              "         1.00000000e+00,  7.69230769e-01],\n",
              "       [ 6.45161290e-02,  1.00000000e+00,  3.54838710e-01,\n",
              "         3.22580645e-02,  1.00000000e+00,  6.77419355e-01,\n",
              "         4.51612903e-01,  2.90322581e-01]])"
            ]
          },
          "metadata": {},
          "execution_count": 11
        }
      ]
    },
    {
      "cell_type": "markdown",
      "metadata": {
        "id": "0TqFnFdvnw-c"
      },
      "source": [
        "Executa K-Means para agrupar os dados e retorna Tabela de Distâncias (fit_transform).\n",
        "\n",
        "Calcula a distância entre os dados de cada linha (instância) e cada um dos 3 clusters.\n"
      ]
    },
    {
      "cell_type": "code",
      "metadata": {
        "colab": {
          "base_uri": "https://localhost:8080/"
        },
        "id": "Pf8Csw4vn6A9",
        "outputId": "c6870198-8f2d-4670-b66e-b450e1942a9d"
      },
      "source": [
        "distance = kmeans.fit_transform(Xbmw)\n",
        "distance"
      ],
      "execution_count": 12,
      "outputs": [
        {
          "output_type": "execute_result",
          "data": {
            "text/plain": [
              "array([[1.96370152, 1.80946449, 1.12976422],\n",
              "       [1.80829112, 1.47363416, 1.23546234],\n",
              "       [1.96370152, 1.80946449, 1.12976422],\n",
              "       [2.14015457, 0.94315765, 1.54963453],\n",
              "       [2.14015457, 1.22675628, 1.64738192],\n",
              "       [1.49513679, 1.85839956, 1.12976422],\n",
              "       [2.15620665, 1.40230861, 1.60899571],\n",
              "       [1.79873122, 1.94601702, 1.15709429],\n",
              "       [1.50662429, 1.56641275, 1.33280426],\n",
              "       [2.06637769, 1.31745975, 1.73964571],\n",
              "       [1.97246202, 1.50803241, 1.42350525],\n",
              "       [2.20366142, 1.72977179, 1.12976422],\n",
              "       [2.36225773, 1.10583891, 1.56967104],\n",
              "       [1.72034065, 1.54995705, 1.35604837],\n",
              "       [1.96370152, 1.80946449, 1.23546234],\n",
              "       [1.89215792, 1.08240364, 1.62830193],\n",
              "       [2.15620665, 1.40230861, 1.60899571],\n",
              "       [2.06637769, 1.58269737, 1.26050275],\n",
              "       [1.66947841, 1.57457611, 1.15709429],\n",
              "       [2.18795753, 1.59077717, 1.07301779],\n",
              "       [1.82726087, 1.36524918, 1.68489382],\n",
              "       [2.08299839, 1.48230856, 1.70334001],\n",
              "       [1.70017835, 1.39313618, 1.3091475 ],\n",
              "       [1.94606222, 1.48230856, 1.04348799],\n",
              "       [1.58470694, 1.30769231, 1.46675396],\n",
              "       [1.38747583, 1.91948382, 1.26050275],\n",
              "       [1.58470694, 1.30769231, 1.46675396],\n",
              "       [1.67977406, 1.21626064, 1.35604837],\n",
              "       [1.690007  , 1.71488437, 1.20990379],\n",
              "       [1.58470694, 1.30769231, 1.46675396],\n",
              "       [1.87384526, 1.19499284, 1.37890072],\n",
              "       [1.86462149, 1.55820663, 1.18379356],\n",
              "       [1.50662429, 1.29785136, 1.72158857],\n",
              "       [1.38747583, 1.91948382, 1.26050275],\n",
              "       [1.87384526, 1.19499284, 1.37890072],\n",
              "       [1.690007  , 1.71488437, 1.20990379],\n",
              "       [1.78912024, 0.96996309, 1.68489382],\n",
              "       [1.12690584, 1.72977179, 1.62830193],\n",
              "       [1.12690584, 1.72977179, 1.62830193],\n",
              "       [0.92526951, 1.93941775, 1.52933554],\n",
              "       [0.92526951, 1.93941775, 1.52933554],\n",
              "       [0.73876846, 1.99802664, 1.62830193],\n",
              "       [1.12690584, 1.49093249, 1.95930273],\n",
              "       [0.92526951, 1.93941775, 1.52933554],\n",
              "       [0.96181556, 2.05496464, 1.56967104],\n",
              "       [1.12690584, 1.72977179, 1.62830193],\n",
              "       [1.15710081, 1.6384194 , 1.9909463 ],\n",
              "       [2.14015457, 1.32715531, 1.82725674],\n",
              "       [2.27298669, 1.66172838, 0.98176738],\n",
              "       [2.21147155, 1.41142143, 1.33280426],\n",
              "       [1.80829112, 1.28793522, 1.89443057],\n",
              "       [1.70017835, 1.48230856, 1.60899571],\n",
              "       [1.97246202, 0.94315765, 1.70334001],\n",
              "       [1.94606222, 1.48230856, 1.04348799],\n",
              "       [1.33684634, 1.73716766, 1.48790698],\n",
              "       [1.78912024, 1.34633698, 1.94328773],\n",
              "       [1.66947841, 1.83059685, 1.50876346],\n",
              "       [2.05801701, 1.87214609, 1.04348799],\n",
              "       [2.04962222, 0.81165086, 1.60899571],\n",
              "       [1.78912024, 0.96996309, 1.68489382],\n",
              "       [2.04962222, 1.19499284, 1.18379356],\n",
              "       [1.94606222, 1.48230856, 1.04348799],\n",
              "       [1.78912024, 0.96996309, 1.68489382],\n",
              "       [2.06637769, 1.05844961, 1.64738192],\n",
              "       [1.95490176, 1.09418402, 1.26050275],\n",
              "       [2.05801701, 1.87214609, 1.04348799],\n",
              "       [1.94606222, 1.48230856, 1.04348799],\n",
              "       [2.04962222, 0.81165086, 1.60899571],\n",
              "       [1.71028921, 1.84455059, 1.15709429],\n",
              "       [2.04962222, 0.81165086, 1.60899571],\n",
              "       [2.06637769, 1.05844961, 1.64738192],\n",
              "       [1.78912024, 0.96996309, 1.68489382],\n",
              "       [2.04962222, 1.23716288, 1.8778624 ],\n",
              "       [2.18795753, 1.59077717, 1.07301779],\n",
              "       [2.21147155, 1.10583891, 1.72158857],\n",
              "       [1.78912024, 1.09418402, 1.86114674],\n",
              "       [1.95490176, 1.43841355, 1.589455  ],\n",
              "       [2.06637769, 1.05844961, 1.64738192],\n",
              "       [2.04962222, 0.81165086, 1.60899571],\n",
              "       [1.66947841, 1.83059685, 1.50876346],\n",
              "       [2.04962222, 1.23716288, 1.8778624 ],\n",
              "       [1.78912024, 1.34633698, 1.94328773],\n",
              "       [1.11150079, 1.99802664, 1.46675396],\n",
              "       [0.97957743, 1.56641275, 2.03749041],\n",
              "       [0.73876846, 1.99802664, 1.62830193],\n",
              "       [0.73876846, 1.99802664, 1.62830193],\n",
              "       [0.73876846, 1.99802664, 1.62830193],\n",
              "       [0.97957743, 1.56641275, 2.03749041],\n",
              "       [0.73876846, 1.99802664, 1.62830193],\n",
              "       [0.96181556, 2.05496464, 1.56967104],\n",
              "       [0.97957743, 1.56641275, 2.03749041],\n",
              "       [0.97957743, 1.56641275, 2.03749041],\n",
              "       [1.11150079, 1.99802664, 1.46675396],\n",
              "       [0.97957743, 1.56641275, 2.03749041],\n",
              "       [0.76174904, 1.72977179, 1.77520905],\n",
              "       [0.73876846, 1.99802664, 1.62830193],\n",
              "       [0.97957743, 1.56641275, 2.03749041],\n",
              "       [0.97957743, 1.56641275, 2.03749041],\n",
              "       [0.73876846, 1.99802664, 1.62830193],\n",
              "       [0.97957743, 1.79523806, 1.72158857]])"
            ]
          },
          "metadata": {},
          "execution_count": 12
        }
      ]
    },
    {
      "cell_type": "markdown",
      "metadata": {
        "id": "SVRErTGpo1IE"
      },
      "source": [
        "Para cada uma das 100 linhas do dataset, a qual dos 3 clusters ela pertence? 0, 1 ou 2 ?\n",
        "\n",
        "São 100 elementos no array, ou seja, um por linha.\n"
      ]
    },
    {
      "cell_type": "code",
      "metadata": {
        "colab": {
          "base_uri": "https://localhost:8080/"
        },
        "id": "izlFz8Lzov33",
        "outputId": "ec1ff836-aaa4-441c-9947-4e1e6e1cda92"
      },
      "source": [
        "labels = kmeans.labels_\n",
        "labels"
      ],
      "execution_count": 14,
      "outputs": [
        {
          "output_type": "execute_result",
          "data": {
            "text/plain": [
              "array([2, 2, 2, 1, 1, 2, 1, 2, 2, 1, 2, 2, 1, 2, 2, 1, 1, 2, 2, 2, 1, 1,\n",
              "       2, 2, 1, 2, 1, 1, 2, 1, 1, 2, 1, 2, 1, 2, 1, 0, 0, 0, 0, 0, 0, 0,\n",
              "       0, 0, 0, 1, 2, 2, 1, 1, 1, 2, 0, 1, 2, 2, 1, 1, 2, 2, 1, 1, 1, 2,\n",
              "       2, 1, 2, 1, 1, 1, 1, 2, 1, 1, 1, 1, 1, 2, 1, 1, 0, 0, 0, 0, 0, 0,\n",
              "       0, 0, 0, 0, 0, 0, 0, 0, 0, 0, 0, 0], dtype=int32)"
            ]
          },
          "metadata": {},
          "execution_count": 14
        }
      ]
    },
    {
      "cell_type": "markdown",
      "metadata": {
        "id": "pIDidQ_wpFvQ"
      },
      "source": [
        " Exibindo novamente os **Centroids** (atualizados) - São 3 grupos, portanto, 3 linhas com 8 colunas = *8 features*"
      ]
    },
    {
      "cell_type": "code",
      "metadata": {
        "colab": {
          "base_uri": "https://localhost:8080/"
        },
        "id": "TQn8GcenowvZ",
        "outputId": "d4b0c5be-db43-46a2-f13e-d663b29b21d3"
      },
      "source": [
        "kmeans.cluster_centers_"
      ],
      "execution_count": 15,
      "outputs": [
        {
          "output_type": "execute_result",
          "data": {
            "text/plain": [
              "array([[ 0.00000000e+00,  1.00000000e+00,  3.10344828e-01,\n",
              "         3.44827586e-02,  1.00000000e+00,  6.55172414e-01,\n",
              "         4.82758621e-01,  3.10344828e-01],\n",
              "       [ 7.69230769e-01,  6.66666667e-01,  3.84615385e-01,\n",
              "         8.71794872e-01,  3.58974359e-01,  3.84615385e-01,\n",
              "         1.00000000e+00,  7.69230769e-01],\n",
              "       [ 9.37500000e-01,  5.31250000e-01,  5.93750000e-01,\n",
              "         5.62500000e-01,  3.75000000e-01,  3.43750000e-01,\n",
              "         2.50000000e-01, -1.11022302e-16]])"
            ]
          },
          "metadata": {},
          "execution_count": 15
        }
      ]
    },
    {
      "cell_type": "markdown",
      "metadata": {
        "id": "TMFjIJMHpVUf"
      },
      "source": [
        "### 👁‍🗨 Visualizando os Clusters - Exemplo 1\n",
        "\n",
        "Dados: 0.Dealership, 1.Showroom, 2.ComputerSearch, 3.M5, 4.3Series, 5.Z4, 6.Financing, 7.Purchase"
      ]
    },
    {
      "cell_type": "code",
      "metadata": {
        "colab": {
          "base_uri": "https://localhost:8080/",
          "height": 295
        },
        "id": "_07H1l28pPqi",
        "outputId": "16f6edb6-898c-4c29-8153-d21373ac5561"
      },
      "source": [
        "plt.scatter(Xbmw[:, 6], Xbmw[:,7], s = 100, c = kmeans.labels_)\n",
        "plt.scatter(kmeans.cluster_centers_[:, 6], kmeans.cluster_centers_[:, 7], s = 20, c = 'red')\n",
        "plt.title('Customer Clusters and Centroids')\n",
        "plt.xlabel('Financing')\n",
        "plt.ylabel('Purchase')\n",
        "plt.show()"
      ],
      "execution_count": 16,
      "outputs": [
        {
          "output_type": "display_data",
          "data": {
            "image/png": "[encoded data removed]",
            "text/plain": [
              "<Figure size 432x288 with 1 Axes>"
            ]
          },
          "metadata": {
            "needs_background": "light"
          }
        }
      ]
    },
    {
      "cell_type": "markdown",
      "metadata": {
        "id": "bu-hM25EpxL0"
      },
      "source": [
        "### 👁‍🗨 Visualizando os Clusters - Exemplo 2\n",
        "\n",
        "Dados: 0.Dealership, 1.Showroom, 2.ComputerSearch, 3.M5, 4.3Series, 5.Z4, 6.Financing, 7.Purchase"
      ]
    },
    {
      "cell_type": "code",
      "metadata": {
        "colab": {
          "base_uri": "https://localhost:8080/",
          "height": 295
        },
        "id": "aEf7DGrZprh3",
        "outputId": "5ef543ab-4474-4383-a100-dd688f252095"
      },
      "source": [
        "plt.scatter(Xbmw[:, 3], Xbmw[:, 7], s = 100, c = kmeans.labels_)\n",
        "plt.scatter(kmeans.cluster_centers_[:, 3], kmeans.cluster_centers_[:, 7], s = 20, c = 'red')\n",
        "plt.title('Customer Clusters and Centroids')\n",
        "plt.xlabel('M5')\n",
        "plt.ylabel('Purchase')\n",
        "plt.show()"
      ],
      "execution_count": 17,
      "outputs": [
        {
          "output_type": "display_data",
          "data": {
            "image/png": "[encoded data removed]",
            "text/plain": [
              "<Figure size 432x288 with 1 Axes>"
            ]
          },
          "metadata": {
            "needs_background": "light"
          }
        }
      ]
    },
    {
      "cell_type": "markdown",
      "metadata": {
        "id": "i22LrRNpqDSM"
      },
      "source": [
        "### 🧮 Cálculo do **WCSSE** - Within Cluster Sum of Squared Errors"
      ]
    },
    {
      "cell_type": "code",
      "metadata": {
        "colab": {
          "base_uri": "https://localhost:8080/"
        },
        "id": "h0qwxIhlp9vh",
        "outputId": "66263f75-f23d-4d6c-9554-c32cacacc055"
      },
      "source": [
        "wcsse = []\n",
        "maxclusters = 11\n",
        "for i in range(1, maxclusters):\n",
        "    kmeans = KMeans(n_clusters = i, init = 'random')\n",
        "    kmeans.fit(Xbmw)\n",
        "    print (i,kmeans.inertia_)\n",
        "    wcsse.append(kmeans.inertia_)"
      ],
      "execution_count": 18,
      "outputs": [
        {
          "output_type": "stream",
          "name": "stdout",
          "text": [
            "1 190.66000000000003\n",
            "2 149.57575757575756\n",
            "3 127.75723837209301\n",
            "4 116.25201288244766\n",
            "5 104.67831262939958\n",
            "6 93.93364845938376\n",
            "7 88.01996658312449\n",
            "8 81.67748917748918\n",
            "9 75.88939393939394\n",
            "10 69.21632501485442\n"
          ]
        }
      ]
    },
    {
      "cell_type": "markdown",
      "metadata": {
        "id": "_vWXEozBqW_j"
      },
      "source": [
        "### 💪🏻 Método de Elbow\n",
        "Plotagem do Gráfico para visualização do \"cotovelo\" - Método de Elbow.\n",
        "\n",
        "Ao final do Estudo do Metodo de Elbow a seguir, foram gerados 11 clusters."
      ]
    },
    {
      "cell_type": "code",
      "metadata": {
        "colab": {
          "base_uri": "https://localhost:8080/",
          "height": 295
        },
        "id": "23J-_-tkqSly",
        "outputId": "022c402e-7411-4f84-a29f-3d5465a2cf7e"
      },
      "source": [
        "plt.plot(range(1, maxclusters), wcsse)\n",
        "plt.title('O Metodo Elbow')\n",
        "plt.xlabel('Qtde, de Clusters')\n",
        "plt.ylabel('WCSSE') # Within Cluster Sum of Squares\n",
        "plt.show()"
      ],
      "execution_count": 19,
      "outputs": [
        {
          "output_type": "display_data",
          "data": {
            "image/png": "[encoded data removed]",
            "text/plain": [
              "<Figure size 432x288 with 1 Axes>"
            ]
          },
          "metadata": {
            "needs_background": "light"
          }
        }
      ]
    },
    {
      "cell_type": "markdown",
      "metadata": {
        "id": "rsgpACg1qv1F"
      },
      "source": [
        "### 🔮 Previsões\n",
        "👨🏽 Para o cliente 1 => Dealership=1, Showroom=1, ComputerSearch=1, M5=1, 3Series=1,Z4=1, Financing=1, Purchase=1, qual grupo ele pertence?\n",
        "\n",
        "O comando predict nos traz o cluster=0."
      ]
    },
    {
      "cell_type": "code",
      "metadata": {
        "colab": {
          "base_uri": "https://localhost:8080/"
        },
        "id": "guu7xd-FqqJW",
        "outputId": "25c01755-39c1-4eae-b644-6f6053990997"
      },
      "source": [
        "newcustomer1= [ [1, 1, 1, 1, 1, 1, 1, 1] ]\n",
        "kmeans.predict(newcustomer1)"
      ],
      "execution_count": 20,
      "outputs": [
        {
          "output_type": "execute_result",
          "data": {
            "text/plain": [
              "array([0], dtype=int32)"
            ]
          },
          "metadata": {},
          "execution_count": 20
        }
      ]
    },
    {
      "cell_type": "markdown",
      "metadata": {
        "id": "25tUax3urJsq"
      },
      "source": [
        "👩🏻‍🦱 Para o cliente 2 => Dealership=1, Showroom=0, ComputerSearch=0, M5=0, 3Series=1, Z4=1, Financing=1, Purchase=1, qual grupo ele pertence?\n",
        "\n",
        "O comando predict nos traz o cluster=1.\n"
      ]
    },
    {
      "cell_type": "code",
      "metadata": {
        "colab": {
          "base_uri": "https://localhost:8080/"
        },
        "id": "GvQfOXUvq_yF",
        "outputId": "8711b4e5-25ed-4cbf-e3a2-951a704766bb"
      },
      "source": [
        "newcustomer2 = [ [1, 0, 0, 0, 1, 1, 1, 1] ]\n",
        "kmeans.predict(newcustomer2)"
      ],
      "execution_count": 21,
      "outputs": [
        {
          "output_type": "execute_result",
          "data": {
            "text/plain": [
              "array([1], dtype=int32)"
            ]
          },
          "metadata": {},
          "execution_count": 21
        }
      ]
    }
  ]
}