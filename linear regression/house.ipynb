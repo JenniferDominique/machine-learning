{
  "nbformat": 4,
  "nbformat_minor": 0,
  "metadata": {
    "colab": {
      "name": "Regressão Linear - House",
      "provenance": []
    },
    "kernelspec": {
      "name": "python3",
      "display_name": "Python 3"
    },
    "language_info": {
      "name": "python"
    }
  },
  "cells": [
    {
      "cell_type": "markdown",
      "metadata": {
        "id": "ltalWodeXZy2"
      },
      "source": [
        "# **🧪 Laboratório # 8**\n",
        "\n",
        "### ASSUNTO: 📈 Regressão Linear usando Python\n",
        "\n",
        "---\n"
      ]
    },
    {
      "cell_type": "markdown",
      "metadata": {
        "id": "rXbxWNXrX6Dm"
      },
      "source": [
        "### 📚 Materiais de apoio\n",
        "\n",
        "- [Scikit Learn](scikit-learn.org/)\n",
        "- [Regressão Linear em Python por Jones Granatyr](https://www.youtube.com/watch?v=tksi1oZY6Qs)\n",
        "- [Material bem interessante para Regressão Linear em Python (inglês)](https://realpython.com/linear-regression-in-python/#simple-linear-regression-with-scikit-learn)"
      ]
    },
    {
      "cell_type": "markdown",
      "metadata": {
        "id": "bc8GyAOIYiEt"
      },
      "source": [
        "### 📥 Importando as bibliotecas"
      ]
    },
    {
      "cell_type": "code",
      "metadata": {
        "id": "YNlaO4EKXOf6"
      },
      "source": [
        "import pandas as pd\n",
        "import matplotlib.pyplot as plt \n",
        "import numpy as np \n",
        "from sklearn.linear_model import LinearRegression \n",
        "from sklearn.model_selection import train_test_split\n",
        "from sklearn.metrics import mean_squared_error"
      ],
      "execution_count": null,
      "outputs": []
    },
    {
      "cell_type": "markdown",
      "metadata": {
        "id": "WdPl9gs2ZDNp"
      },
      "source": [
        "### 📄 Lendo o arquivo com os dados\n",
        "\n",
        "Fazendo a leitura do arquivo que contém os dados (dataframe - df) que serão analisados nesse notebook."
      ]
    },
    {
      "cell_type": "code",
      "metadata": {
        "id": "845ze4gwZUrF",
        "colab": {
          "base_uri": "https://localhost:8080/",
          "height": 266
        },
        "outputId": "83d398bd-a548-43eb-f23a-f0d18fde21a4"
      },
      "source": [
        "url = 'https://raw.githubusercontent.com/JenniferDominique/machine-learning/main/data/house.csv'\n",
        "\n",
        "# leitura de dados (CSV), separados por ponto e vírgula no nesse caso\n",
        "df = pd.read_csv(url, delimiter=';', error_bad_lines=False)\n",
        "df #Exibindo todos os dados do dataframe"
      ],
      "execution_count": null,
      "outputs": [
        {
          "output_type": "execute_result",
          "data": {
            "text/html": [
              "<div>\n",
              "<style scoped>\n",
              "    .dataframe tbody tr th:only-of-type {\n",
              "        vertical-align: middle;\n",
              "    }\n",
              "\n",
              "    .dataframe tbody tr th {\n",
              "        vertical-align: top;\n",
              "    }\n",
              "\n",
              "    .dataframe thead th {\n",
              "        text-align: right;\n",
              "    }\n",
              "</style>\n",
              "<table border=\"1\" class=\"dataframe\">\n",
              "  <thead>\n",
              "    <tr style=\"text-align: right;\">\n",
              "      <th></th>\n",
              "      <th>houseSize</th>\n",
              "      <th>lotSize</th>\n",
              "      <th>bedrooms</th>\n",
              "      <th>granite</th>\n",
              "      <th>bathroom</th>\n",
              "      <th>sellingPrice</th>\n",
              "    </tr>\n",
              "  </thead>\n",
              "  <tbody>\n",
              "    <tr>\n",
              "      <th>0</th>\n",
              "      <td>3529</td>\n",
              "      <td>9191</td>\n",
              "      <td>6</td>\n",
              "      <td>0</td>\n",
              "      <td>0</td>\n",
              "      <td>205000</td>\n",
              "    </tr>\n",
              "    <tr>\n",
              "      <th>1</th>\n",
              "      <td>3247</td>\n",
              "      <td>10061</td>\n",
              "      <td>5</td>\n",
              "      <td>1</td>\n",
              "      <td>1</td>\n",
              "      <td>224900</td>\n",
              "    </tr>\n",
              "    <tr>\n",
              "      <th>2</th>\n",
              "      <td>4032</td>\n",
              "      <td>10150</td>\n",
              "      <td>5</td>\n",
              "      <td>0</td>\n",
              "      <td>1</td>\n",
              "      <td>197900</td>\n",
              "    </tr>\n",
              "    <tr>\n",
              "      <th>3</th>\n",
              "      <td>2397</td>\n",
              "      <td>14156</td>\n",
              "      <td>4</td>\n",
              "      <td>1</td>\n",
              "      <td>0</td>\n",
              "      <td>189900</td>\n",
              "    </tr>\n",
              "    <tr>\n",
              "      <th>4</th>\n",
              "      <td>2200</td>\n",
              "      <td>9600</td>\n",
              "      <td>4</td>\n",
              "      <td>0</td>\n",
              "      <td>1</td>\n",
              "      <td>195000</td>\n",
              "    </tr>\n",
              "    <tr>\n",
              "      <th>5</th>\n",
              "      <td>3536</td>\n",
              "      <td>19994</td>\n",
              "      <td>6</td>\n",
              "      <td>1</td>\n",
              "      <td>1</td>\n",
              "      <td>325000</td>\n",
              "    </tr>\n",
              "    <tr>\n",
              "      <th>6</th>\n",
              "      <td>2983</td>\n",
              "      <td>9365</td>\n",
              "      <td>5</td>\n",
              "      <td>0</td>\n",
              "      <td>1</td>\n",
              "      <td>230000</td>\n",
              "    </tr>\n",
              "  </tbody>\n",
              "</table>\n",
              "</div>"
            ],
            "text/plain": [
              "   houseSize  lotSize  bedrooms  granite  bathroom  sellingPrice\n",
              "0       3529     9191         6        0         0        205000\n",
              "1       3247    10061         5        1         1        224900\n",
              "2       4032    10150         5        0         1        197900\n",
              "3       2397    14156         4        1         0        189900\n",
              "4       2200     9600         4        0         1        195000\n",
              "5       3536    19994         6        1         1        325000\n",
              "6       2983     9365         5        0         1        230000"
            ]
          },
          "metadata": {},
          "execution_count": 2
        }
      ]
    },
    {
      "cell_type": "code",
      "metadata": {
        "colab": {
          "base_uri": "https://localhost:8080/"
        },
        "id": "36nPPbH2dvCv",
        "outputId": "7d770879-6794-4109-c048-1362bb90be81"
      },
      "source": [
        "y = 'sellingPrice' # Target value\n",
        "# Coluna que estamos tentando prever\n",
        "\n",
        "x = df.drop([y], axis=1) # Features\n",
        "# Excluindo a coluna de 'SellingPrice' das features\n",
        "\n",
        "y = df[y]\n",
        "\n",
        "print(\"X: \\n\", x)\n",
        "print(\"Y: \\n\", y)"
      ],
      "execution_count": null,
      "outputs": [
        {
          "output_type": "stream",
          "name": "stdout",
          "text": [
            "X: \n",
            "    houseSize  lotSize  bedrooms  granite  bathroom\n",
            "0       3529     9191         6        0         0\n",
            "1       3247    10061         5        1         1\n",
            "2       4032    10150         5        0         1\n",
            "3       2397    14156         4        1         0\n",
            "4       2200     9600         4        0         1\n",
            "5       3536    19994         6        1         1\n",
            "6       2983     9365         5        0         1\n",
            "Y: \n",
            " 0    205000\n",
            "1    224900\n",
            "2    197900\n",
            "3    189900\n",
            "4    195000\n",
            "5    325000\n",
            "6    230000\n",
            "Name: sellingPrice, dtype: int64\n"
          ]
        }
      ]
    },
    {
      "cell_type": "markdown",
      "metadata": {
        "id": "75MKY1yUF01-"
      },
      "source": [
        "### 🧫 Separando os entre treino e teste"
      ]
    },
    {
      "cell_type": "code",
      "metadata": {
        "colab": {
          "base_uri": "https://localhost:8080/"
        },
        "id": "FQ5atHBoFz3I",
        "outputId": "cab866f3-8e22-4780-dd80-55e0255cbb27"
      },
      "source": [
        "Xtrain, Xval, Ytrain, Yval = train_test_split(x, y, test_size=0.3, random_state=0)\n",
        "# Separando os dados em 70% para treino e 30% para teste\n",
        "\n",
        "print(Xtrain.shape, Xval.shape, Ytrain.shape, Yval.shape)\n",
        "# O vetorno vai ser de (linhas, colunas)\n",
        "# os dois últimos valores, que são de Y, ficam sem o número das colunas \n",
        "# porque eles têm zero dimensões, ou seja, apenas 1 coluna "
      ],
      "execution_count": null,
      "outputs": [
        {
          "output_type": "stream",
          "name": "stdout",
          "text": [
            "(4, 5) (3, 5) (4,) (3,)\n"
          ]
        }
      ]
    },
    {
      "cell_type": "markdown",
      "metadata": {
        "id": "cm8ptzaaaOkI"
      },
      "source": [
        "### 📈 Criação do modelo de Regressão linear"
      ]
    },
    {
      "cell_type": "code",
      "metadata": {
        "id": "Hikh8yKyaIjB"
      },
      "source": [
        "model = LinearRegression() "
      ],
      "execution_count": null,
      "outputs": []
    },
    {
      "cell_type": "markdown",
      "metadata": {
        "id": "2QZkFykaabeX"
      },
      "source": [
        "Treino do modelo com os Dados"
      ]
    },
    {
      "cell_type": "code",
      "metadata": {
        "colab": {
          "base_uri": "https://localhost:8080/"
        },
        "id": "HA_xZer6aZW_",
        "outputId": "89ebb045-cd88-412f-ef03-bcf9a1546f6f"
      },
      "source": [
        "model.fit(Xtrain, Ytrain) "
      ],
      "execution_count": null,
      "outputs": [
        {
          "output_type": "execute_result",
          "data": {
            "text/plain": [
              "LinearRegression(copy_X=True, fit_intercept=True, n_jobs=None, normalize=False)"
            ]
          },
          "metadata": {},
          "execution_count": 6
        }
      ]
    },
    {
      "cell_type": "markdown",
      "metadata": {
        "id": "QyV4RtuNai03"
      },
      "source": [
        "### 🧮 Cálculo do Coeficiente de Determinação R2.\n",
        "\n",
        "🚧 Quanto mais próximo de 1, melhor o modelo é.\n",
        "\n",
        "Foco no acerto"
      ]
    },
    {
      "cell_type": "code",
      "metadata": {
        "colab": {
          "base_uri": "https://localhost:8080/"
        },
        "id": "Z7JZt0b9afPw",
        "outputId": "ecd7bd2e-a0f7-4519-a5be-667a0959438d"
      },
      "source": [
        "r_sq = model.score(Xtrain, Ytrain) \n",
        "\n",
        "print('Coefficient of determination:', r_sq)"
      ],
      "execution_count": null,
      "outputs": [
        {
          "output_type": "stream",
          "name": "stdout",
          "text": [
            "Coefficient of determination: 1.0\n"
          ]
        }
      ]
    },
    {
      "cell_type": "markdown",
      "metadata": {
        "id": "LqTVCow3bNEN"
      },
      "source": [
        "### 🧮 Cálculo de MSE (Mean Squared Error) \n",
        "\n",
        "Foco no erro"
      ]
    },
    {
      "cell_type": "markdown",
      "metadata": {
        "id": "AMxxuRsDJg5I"
      },
      "source": [
        "Fazendo a média na \"mão\":"
      ]
    },
    {
      "cell_type": "code",
      "metadata": {
        "colab": {
          "base_uri": "https://localhost:8080/"
        },
        "id": "QJQZ2ftCbJH-",
        "outputId": "ea9a646d-6502-4d91-925c-1112547eb8cb"
      },
      "source": [
        "np.mean((model.predict(Xval)-Yval)**2)"
      ],
      "execution_count": null,
      "outputs": [
        {
          "output_type": "execute_result",
          "data": {
            "text/plain": [
              "1108340796.4604123"
            ]
          },
          "metadata": {},
          "execution_count": 8
        }
      ]
    },
    {
      "cell_type": "markdown",
      "metadata": {
        "id": "_hlk7TSCJk8V"
      },
      "source": [
        "Ou fazendo a média utilizando das métricas do sklearn o mean_squared_error:"
      ]
    },
    {
      "cell_type": "code",
      "metadata": {
        "colab": {
          "base_uri": "https://localhost:8080/"
        },
        "id": "Tk9zHGfcJMKH",
        "outputId": "8f8fecc5-9457-414f-de0b-5784c617a307"
      },
      "source": [
        "mean_squared_error(Yval, model.predict(Xval)) # (valores reais, previsão)"
      ],
      "execution_count": null,
      "outputs": [
        {
          "output_type": "execute_result",
          "data": {
            "text/plain": [
              "1108340796.4604123"
            ]
          },
          "metadata": {},
          "execution_count": 9
        }
      ]
    },
    {
      "cell_type": "markdown",
      "metadata": {
        "id": "sdNzqD6EbYBq"
      },
      "source": [
        "### 🧮 Admitindo a Equação da Regressão Linear: `𝑓(𝑥) = 𝑏₀ + 𝑏₁𝑥`"
      ]
    },
    {
      "cell_type": "code",
      "metadata": {
        "colab": {
          "base_uri": "https://localhost:8080/"
        },
        "id": "MfcPQYeZbTYo",
        "outputId": "8ea46ab7-6fd2-4a36-b644-98e860c9382b"
      },
      "source": [
        "print('b0 ou intercept:', model.intercept_) \n",
        "\n",
        "print('b1 ou coeficiente (slope):', model.coef_) "
      ],
      "execution_count": null,
      "outputs": [
        {
          "output_type": "stream",
          "name": "stdout",
          "text": [
            "b0 ou intercept: -17986.476495571493\n",
            "b1 ou coeficiente (slope): [ 2.51367438e+01  9.24595053e+00  8.21656269e+03 -1.61182250e+04\n",
            "  3.60582642e+04]\n"
          ]
        }
      ]
    }
  ]
}