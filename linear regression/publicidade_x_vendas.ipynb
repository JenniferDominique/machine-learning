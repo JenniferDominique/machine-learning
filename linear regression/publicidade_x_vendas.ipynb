{
  "nbformat": 4,
  "nbformat_minor": 0,
  "metadata": {
    "colab": {
      "name": "Regressão Linear - Publicidade x Vendas",
      "provenance": []
    },
    "kernelspec": {
      "name": "python3",
      "display_name": "Python 3"
    },
    "language_info": {
      "name": "python"
    }
  },
  "cells": [
    {
      "cell_type": "markdown",
      "metadata": {
        "id": "ltalWodeXZy2"
      },
      "source": [
        "\n",
        "# **🧪 Laboratório # 7**\n",
        "\n",
        "### ASSUNTO: 📈 Regressão Linear usando Python\n",
        "\n",
        "\n",
        "---\n"
      ]
    },
    {
      "cell_type": "markdown",
      "metadata": {
        "id": "rXbxWNXrX6Dm"
      },
      "source": [
        "### 📚 Materiais de apoio\n",
        "\n",
        "- [Scikit Learn](scikit-learn.org/)\n",
        "- [Regressão Linear em Python por Jones Granatyr](https://www.youtube.com/watch?v=tksi1oZY6Qs)\n",
        "- [Material bem interessante para Regressão Linear em Python (inglês)](https://realpython.com/linear-regression-in-python/#simple-linear-regression-with-scikit-learn)"
      ]
    },
    {
      "cell_type": "markdown",
      "metadata": {
        "id": "bc8GyAOIYiEt"
      },
      "source": [
        "### 📥 Importando as bibliotecas"
      ]
    },
    {
      "cell_type": "code",
      "metadata": {
        "id": "YNlaO4EKXOf6"
      },
      "source": [
        "import matplotlib.pyplot as plt \n",
        "import numpy as np \n",
        "from sklearn.linear_model import LinearRegression "
      ],
      "execution_count": null,
      "outputs": []
    },
    {
      "cell_type": "markdown",
      "metadata": {
        "id": "WdPl9gs2ZDNp"
      },
      "source": [
        "### 📄 Dados utilizados nesse notebook\n",
        "\n",
        "O dataset utilizado nesse projeto será criado no próprio código abaixo.\n",
        "Criação de Dados, sendo:\n",
        "\n",
        "x = Valor de Vendas (R$ milhões)\n",
        "\n",
        "y = Investimento em Publicidade (R$ milhões)"
      ]
    },
    {
      "cell_type": "code",
      "metadata": {
        "id": "845ze4gwZUrF"
      },
      "source": [
        "x = np.array([1.8, 1.2, 0.4, 0.5, 2.5, 2.5, 1.5, 1.2, 1.6, 1.0, 1.5, 0.7, 1.0, 0.8 ])\n",
        "x = x.reshape((-1, 1)) \n",
        "# reshape converte array para 2 dimensões \n",
        "# x.reshape((-1, 1))\n",
        "\n",
        "y = np.array([104, 68, 39, 43, 134, 127, 87, 77, 102, 65, 101, 46, 52, 33]) "
      ],
      "execution_count": null,
      "outputs": []
    },
    {
      "cell_type": "code",
      "metadata": {
        "colab": {
          "base_uri": "https://localhost:8080/"
        },
        "id": "36nPPbH2dvCv",
        "outputId": "e6c79d35-157b-4168-fc96-8af6008754e6"
      },
      "source": [
        "print(\"X: \", x)\n",
        "print(\"Y: \", y)"
      ],
      "execution_count": null,
      "outputs": [
        {
          "output_type": "stream",
          "name": "stdout",
          "text": [
            "X:  [[1.8]\n",
            " [1.2]\n",
            " [0.4]\n",
            " [0.5]\n",
            " [2.5]\n",
            " [2.5]\n",
            " [1.5]\n",
            " [1.2]\n",
            " [1.6]\n",
            " [1. ]\n",
            " [1.5]\n",
            " [0.7]\n",
            " [1. ]\n",
            " [0.8]]\n",
            "Y:  [104  68  39  43 134 127  87  77 102  65 101  46  52  33]\n"
          ]
        }
      ]
    },
    {
      "cell_type": "markdown",
      "metadata": {
        "id": "VGIunyXkaC5y"
      },
      "source": [
        "### 📈 Plotagem do Gráfico de Dispersão dos Dados usados no treinamento."
      ]
    },
    {
      "cell_type": "code",
      "metadata": {
        "colab": {
          "base_uri": "https://localhost:8080/",
          "height": 279
        },
        "id": "oxs08KN1aD2L",
        "outputId": "c610e746-4f02-4574-c1df-4c9c290605c8"
      },
      "source": [
        "plt.scatter(x, y,  color='blue', linewidth=3) \n",
        "plt.xlabel('Investimento em Publicidade (R$ milhões)') \n",
        "plt.ylabel('Valor de Vendas (R$ milhões)') \n",
        "plt.show()"
      ],
      "execution_count": null,
      "outputs": [
        {
          "output_type": "display_data",
          "data": {
            "image/png": "[encoded data removed]",
            "text/plain": [
              "<Figure size 432x288 with 1 Axes>"
            ]
          },
          "metadata": {
            "needs_background": "light"
          }
        }
      ]
    },
    {
      "cell_type": "markdown",
      "metadata": {
        "id": "cm8ptzaaaOkI"
      },
      "source": [
        "### 📈 Criação do modelo de Regressão linear"
      ]
    },
    {
      "cell_type": "code",
      "metadata": {
        "id": "Hikh8yKyaIjB"
      },
      "source": [
        "model = LinearRegression() "
      ],
      "execution_count": null,
      "outputs": []
    },
    {
      "cell_type": "markdown",
      "metadata": {
        "id": "2QZkFykaabeX"
      },
      "source": [
        "Treino do modelo com os Dados"
      ]
    },
    {
      "cell_type": "code",
      "metadata": {
        "colab": {
          "base_uri": "https://localhost:8080/"
        },
        "id": "HA_xZer6aZW_",
        "outputId": "5ec3acf2-85aa-4550-b585-0945bf719e02"
      },
      "source": [
        "model.fit(x, y) "
      ],
      "execution_count": null,
      "outputs": [
        {
          "output_type": "execute_result",
          "data": {
            "text/plain": [
              "LinearRegression(copy_X=True, fit_intercept=True, n_jobs=None, normalize=False)"
            ]
          },
          "metadata": {},
          "execution_count": 6
        }
      ]
    },
    {
      "cell_type": "markdown",
      "metadata": {
        "id": "QyV4RtuNai03"
      },
      "source": [
        "### 🧮 Cálculo do Coeficiente de Determinação R2.\n",
        "\n",
        "🚧 Quanto mais próximo de 1, melhor o modelo é.\n",
        "\n",
        "Foco no acerto"
      ]
    },
    {
      "cell_type": "code",
      "metadata": {
        "colab": {
          "base_uri": "https://localhost:8080/"
        },
        "id": "Z7JZt0b9afPw",
        "outputId": "c2cf2de7-f328-4f49-9305-fe41582b0f45"
      },
      "source": [
        "r_sq = model.score(x, y) \n",
        "\n",
        "print('coefficient of determination:', r_sq)"
      ],
      "execution_count": null,
      "outputs": [
        {
          "output_type": "stream",
          "name": "stdout",
          "text": [
            "coefficient of determination: 0.929558434520966\n"
          ]
        }
      ]
    },
    {
      "cell_type": "markdown",
      "metadata": {
        "id": "LqTVCow3bNEN"
      },
      "source": [
        "### 🧮 Cálculo de MSE (Mean Squared Error) \n",
        "\n",
        "Foco no erro"
      ]
    },
    {
      "cell_type": "code",
      "metadata": {
        "colab": {
          "base_uri": "https://localhost:8080/"
        },
        "id": "QJQZ2ftCbJH-",
        "outputId": "77c94c56-7d6b-4bb6-d026-93f7ebf24838"
      },
      "source": [
        "np.mean((model.predict(x)-y)**2)"
      ],
      "execution_count": null,
      "outputs": [
        {
          "output_type": "execute_result",
          "data": {
            "text/plain": [
              "71.07553956834533"
            ]
          },
          "metadata": {},
          "execution_count": 8
        }
      ]
    },
    {
      "cell_type": "markdown",
      "metadata": {
        "id": "sdNzqD6EbYBq"
      },
      "source": [
        "### 🧮 Admitindo a Equação da Regressão Linear: `𝑓(𝑥) = 𝑏₀ + 𝑏₁𝑥`"
      ]
    },
    {
      "cell_type": "code",
      "metadata": {
        "colab": {
          "base_uri": "https://localhost:8080/"
        },
        "id": "MfcPQYeZbTYo",
        "outputId": "ca37f477-53b3-4ae1-ad00-1b8a399b5977"
      },
      "source": [
        "print('b0 ou intercept:', model.intercept_) \n",
        "\n",
        "print('b1 ou coeficiente (slope):', model.coef_) "
      ],
      "execution_count": null,
      "outputs": [
        {
          "output_type": "stream",
          "name": "stdout",
          "text": [
            "b0 ou intercept: 13.823741007194236\n",
            "b1 ou coeficiente (slope): [48.5971223]\n"
          ]
        }
      ]
    },
    {
      "cell_type": "markdown",
      "metadata": {
        "id": "eA4T7vBub0G0"
      },
      "source": [
        "Para um Valor de R$ 2.2 milhões de Investimento em Publicidade, qual a valor de Vendas esperado? "
      ]
    },
    {
      "cell_type": "code",
      "metadata": {
        "colab": {
          "base_uri": "https://localhost:8080/"
        },
        "id": "2uNAZAeVbo0i",
        "outputId": "6ebd678a-2435-490e-a277-e1c6888e6d17"
      },
      "source": [
        "x_prev = np.array([[2.2]]) \n",
        "\n",
        "y_prev = model.predict(x_prev) \n",
        "\n",
        "print(\"Valor de Vendas esperado: R$ {0:5.2f} milhões\".format(y_prev[0])) "
      ],
      "execution_count": null,
      "outputs": [
        {
          "output_type": "stream",
          "name": "stdout",
          "text": [
            "Valor de Vendas esperado: R$ 120.74 milhões\n"
          ]
        }
      ]
    }
  ]
}