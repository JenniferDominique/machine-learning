{
  "nbformat": 4,
  "nbformat_minor": 0,
  "metadata": {
    "colab": {
      "name": "Árvore de decisão - Tempo bom para jogar tênis",
      "provenance": []
    },
    "kernelspec": {
      "name": "python3",
      "display_name": "Python 3"
    },
    "language_info": {
      "name": "python"
    }
  },
  "cells": [
    {
      "cell_type": "markdown",
      "metadata": {
        "id": "3qsSv4sa5hN6"
      },
      "source": [
        "\n",
        "  \n",
        "  # **🧪 Laboratório # 5**\n",
        "\n",
        "  ### ASSUNTO: 🌳 Árvore de decisão usando Python\n",
        "\n",
        "\n",
        "\n",
        "---\n",
        "\n"
      ]
    },
    {
      "cell_type": "markdown",
      "metadata": {
        "id": "4TeKwL_ETbSl"
      },
      "source": [
        "### 📚 Materiais de apoio\n",
        "\n",
        "- [Scikit Learn](http://scikit-learn.org/)\n",
        "- [Projeto Jupyter](http://jupyter.org/)\n",
        "- [Instalação do Jupyter](http://jupyter.org/install)\n",
        "- [Vídeo BEM introdutório sobre Jupyter](https://www.youtube.com/watch?v=m0FbNlhNyQ8)\n",
        "- [Vídeo interessante para Decision Tree em Python (inglês)](https://www.youtube.com/watch?v=303yUAhD_RE)\n",
        "- [Blog com 4 formas de Visualização de Árvores de Decisão](https://mljar.com/blog/visualize-decision-tree/)"
      ]
    },
    {
      "cell_type": "markdown",
      "metadata": {
        "id": "uLi9wuD_WPob"
      },
      "source": [
        "### 📥 Importando as bibliotecas"
      ]
    },
    {
      "cell_type": "code",
      "metadata": {
        "id": "qM9DW4DZ5Xae"
      },
      "source": [
        "import pandas as pd\n",
        "from sklearn.tree import DecisionTreeClassifier\n",
        "from sklearn import tree\n",
        "from matplotlib import pyplot as plt"
      ],
      "execution_count": null,
      "outputs": []
    },
    {
      "cell_type": "markdown",
      "metadata": {
        "id": "8sV_5No6WX59"
      },
      "source": [
        "### 📄 Lendo o arquivo com os dados\n",
        "\n",
        "Fazendo a leitura do arquivo que contém os dados (dataframe - df) que serão analisados nesse notebook."
      ]
    },
    {
      "cell_type": "code",
      "metadata": {
        "id": "_3In-S647aoo",
        "colab": {
          "base_uri": "https://localhost:8080/",
          "height": 483
        },
        "outputId": "83321c4e-316e-43cd-f5ba-4d9812c0efe1"
      },
      "source": [
        "# leitura de dados (CSV), separados por vírgula no nesse caso\n",
        "url = 'https://raw.githubusercontent.com/JenniferDominique/machine-learning/main/data/tennis.csv'\n",
        "\n",
        "df = pd.read_csv(url, delimiter=',', error_bad_lines=False)\n",
        "df #Exibindo todos os dados do dataframe"
      ],
      "execution_count": null,
      "outputs": [
        {
          "output_type": "execute_result",
          "data": {
            "text/html": [
              "<div>\n",
              "<style scoped>\n",
              "    .dataframe tbody tr th:only-of-type {\n",
              "        vertical-align: middle;\n",
              "    }\n",
              "\n",
              "    .dataframe tbody tr th {\n",
              "        vertical-align: top;\n",
              "    }\n",
              "\n",
              "    .dataframe thead th {\n",
              "        text-align: right;\n",
              "    }\n",
              "</style>\n",
              "<table border=\"1\" class=\"dataframe\">\n",
              "  <thead>\n",
              "    <tr style=\"text-align: right;\">\n",
              "      <th></th>\n",
              "      <th>outlook</th>\n",
              "      <th>temp</th>\n",
              "      <th>humidity</th>\n",
              "      <th>windy</th>\n",
              "      <th>play</th>\n",
              "    </tr>\n",
              "  </thead>\n",
              "  <tbody>\n",
              "    <tr>\n",
              "      <th>0</th>\n",
              "      <td>sunny</td>\n",
              "      <td>hot</td>\n",
              "      <td>high</td>\n",
              "      <td>False</td>\n",
              "      <td>no</td>\n",
              "    </tr>\n",
              "    <tr>\n",
              "      <th>1</th>\n",
              "      <td>sunny</td>\n",
              "      <td>hot</td>\n",
              "      <td>high</td>\n",
              "      <td>True</td>\n",
              "      <td>no</td>\n",
              "    </tr>\n",
              "    <tr>\n",
              "      <th>2</th>\n",
              "      <td>overcast</td>\n",
              "      <td>hot</td>\n",
              "      <td>high</td>\n",
              "      <td>False</td>\n",
              "      <td>yes</td>\n",
              "    </tr>\n",
              "    <tr>\n",
              "      <th>3</th>\n",
              "      <td>rainy</td>\n",
              "      <td>mild</td>\n",
              "      <td>high</td>\n",
              "      <td>False</td>\n",
              "      <td>yes</td>\n",
              "    </tr>\n",
              "    <tr>\n",
              "      <th>4</th>\n",
              "      <td>rainy</td>\n",
              "      <td>cool</td>\n",
              "      <td>normal</td>\n",
              "      <td>False</td>\n",
              "      <td>yes</td>\n",
              "    </tr>\n",
              "    <tr>\n",
              "      <th>5</th>\n",
              "      <td>rainy</td>\n",
              "      <td>cool</td>\n",
              "      <td>normal</td>\n",
              "      <td>True</td>\n",
              "      <td>no</td>\n",
              "    </tr>\n",
              "    <tr>\n",
              "      <th>6</th>\n",
              "      <td>overcast</td>\n",
              "      <td>cool</td>\n",
              "      <td>normal</td>\n",
              "      <td>True</td>\n",
              "      <td>yes</td>\n",
              "    </tr>\n",
              "    <tr>\n",
              "      <th>7</th>\n",
              "      <td>sunny</td>\n",
              "      <td>mild</td>\n",
              "      <td>high</td>\n",
              "      <td>False</td>\n",
              "      <td>no</td>\n",
              "    </tr>\n",
              "    <tr>\n",
              "      <th>8</th>\n",
              "      <td>sunny</td>\n",
              "      <td>cool</td>\n",
              "      <td>normal</td>\n",
              "      <td>False</td>\n",
              "      <td>yes</td>\n",
              "    </tr>\n",
              "    <tr>\n",
              "      <th>9</th>\n",
              "      <td>rainy</td>\n",
              "      <td>mild</td>\n",
              "      <td>normal</td>\n",
              "      <td>False</td>\n",
              "      <td>yes</td>\n",
              "    </tr>\n",
              "    <tr>\n",
              "      <th>10</th>\n",
              "      <td>sunny</td>\n",
              "      <td>mild</td>\n",
              "      <td>normal</td>\n",
              "      <td>True</td>\n",
              "      <td>yes</td>\n",
              "    </tr>\n",
              "    <tr>\n",
              "      <th>11</th>\n",
              "      <td>overcast</td>\n",
              "      <td>mild</td>\n",
              "      <td>high</td>\n",
              "      <td>True</td>\n",
              "      <td>yes</td>\n",
              "    </tr>\n",
              "    <tr>\n",
              "      <th>12</th>\n",
              "      <td>overcast</td>\n",
              "      <td>hot</td>\n",
              "      <td>normal</td>\n",
              "      <td>False</td>\n",
              "      <td>yes</td>\n",
              "    </tr>\n",
              "    <tr>\n",
              "      <th>13</th>\n",
              "      <td>rainy</td>\n",
              "      <td>mild</td>\n",
              "      <td>high</td>\n",
              "      <td>True</td>\n",
              "      <td>no</td>\n",
              "    </tr>\n",
              "  </tbody>\n",
              "</table>\n",
              "</div>"
            ],
            "text/plain": [
              "     outlook  temp humidity  windy play\n",
              "0      sunny   hot     high  False   no\n",
              "1      sunny   hot     high   True   no\n",
              "2   overcast   hot     high  False  yes\n",
              "3      rainy  mild     high  False  yes\n",
              "4      rainy  cool   normal  False  yes\n",
              "5      rainy  cool   normal   True   no\n",
              "6   overcast  cool   normal   True  yes\n",
              "7      sunny  mild     high  False   no\n",
              "8      sunny  cool   normal  False  yes\n",
              "9      rainy  mild   normal  False  yes\n",
              "10     sunny  mild   normal   True  yes\n",
              "11  overcast  mild     high   True  yes\n",
              "12  overcast   hot   normal  False  yes\n",
              "13     rainy  mild     high   True   no"
            ]
          },
          "metadata": {},
          "execution_count": 2
        }
      ]
    },
    {
      "cell_type": "markdown",
      "metadata": {
        "id": "Y-JW_U-SX6SX"
      },
      "source": [
        "### 🖥 Definição e transformação de dados de classes\n",
        "\n",
        "Codificando as informações para 0 (não) e 1 (sim) para a identificação se o dia está bom para jogar tênis ou não."
      ]
    },
    {
      "cell_type": "code",
      "metadata": {
        "id": "q1m8gUcSfSsJ",
        "colab": {
          "base_uri": "https://localhost:8080/"
        },
        "outputId": "bd4287c1-b0fb-44f0-cb9f-8cb65628e060"
      },
      "source": [
        "# factorize – codifica os valores categóricos – árvore de decisão do Python precisa de dados numéricos\n",
        "df['play'],class_names = pd.factorize(df['play']) # False=0; True=1\n",
        "print(class_names)\n",
        "print(df['play'].unique())\n"
      ],
      "execution_count": null,
      "outputs": [
        {
          "output_type": "stream",
          "name": "stdout",
          "text": [
            "Index(['no', 'yes'], dtype='object')\n",
            "[0 1]\n"
          ]
        }
      ]
    },
    {
      "cell_type": "code",
      "metadata": {
        "colab": {
          "base_uri": "https://localhost:8080/"
        },
        "id": "bWAbWYwRX3Zs",
        "outputId": "34e3d8b0-ce4b-4f99-857d-06c520e2e3ac"
      },
      "source": [
        "df['outlook'],_ = pd.factorize(df['outlook']) # Sunny=0; Overcat=1; Rainy=2\n",
        "print(df['outlook'].unique())"
      ],
      "execution_count": null,
      "outputs": [
        {
          "output_type": "stream",
          "name": "stdout",
          "text": [
            "[0 1 2]\n"
          ]
        }
      ]
    },
    {
      "cell_type": "code",
      "metadata": {
        "colab": {
          "base_uri": "https://localhost:8080/"
        },
        "id": "alZ6EYMGYOl1",
        "outputId": "1606ff0c-9dff-4fa4-9940-d2d0500cddc0"
      },
      "source": [
        "df['temp'],_ = pd.factorize(df['temp']) # Hot=0; Mild=1; Cool=2\n",
        "print(df['temp'].unique())"
      ],
      "execution_count": null,
      "outputs": [
        {
          "output_type": "stream",
          "name": "stdout",
          "text": [
            "[0 1 2]\n"
          ]
        }
      ]
    },
    {
      "cell_type": "code",
      "metadata": {
        "colab": {
          "base_uri": "https://localhost:8080/"
        },
        "id": "RB0NaGYgYRpm",
        "outputId": "83066d26-0af3-42d5-d9dd-428a4aefda94"
      },
      "source": [
        "df['humidity'],_ = pd.factorize(df['humidity']) # High=0; Normal=1\n",
        "print(df['humidity'].unique())"
      ],
      "execution_count": null,
      "outputs": [
        {
          "output_type": "stream",
          "name": "stdout",
          "text": [
            "[0 1]\n"
          ]
        }
      ]
    },
    {
      "cell_type": "code",
      "metadata": {
        "colab": {
          "base_uri": "https://localhost:8080/"
        },
        "id": "vmZ_BTThYVGz",
        "outputId": "172ddb6b-6f3a-4f56-f851-b692c3c28e5d"
      },
      "source": [
        "df['windy'],_ = pd.factorize(df['windy']) # False=0; True=1\n",
        "print(df['windy'].unique())"
      ],
      "execution_count": null,
      "outputs": [
        {
          "output_type": "stream",
          "name": "stdout",
          "text": [
            "[0 1]\n"
          ]
        }
      ]
    },
    {
      "cell_type": "code",
      "metadata": {
        "colab": {
          "base_uri": "https://localhost:8080/",
          "height": 483
        },
        "id": "LsDto-SiYXrk",
        "outputId": "d0215bcf-047a-4b8f-fcc1-bcedaf3da239"
      },
      "source": [
        "# mostra todo o dataset transformado para numérico\n",
        "df"
      ],
      "execution_count": null,
      "outputs": [
        {
          "output_type": "execute_result",
          "data": {
            "text/html": [
              "<div>\n",
              "<style scoped>\n",
              "    .dataframe tbody tr th:only-of-type {\n",
              "        vertical-align: middle;\n",
              "    }\n",
              "\n",
              "    .dataframe tbody tr th {\n",
              "        vertical-align: top;\n",
              "    }\n",
              "\n",
              "    .dataframe thead th {\n",
              "        text-align: right;\n",
              "    }\n",
              "</style>\n",
              "<table border=\"1\" class=\"dataframe\">\n",
              "  <thead>\n",
              "    <tr style=\"text-align: right;\">\n",
              "      <th></th>\n",
              "      <th>outlook</th>\n",
              "      <th>temp</th>\n",
              "      <th>humidity</th>\n",
              "      <th>windy</th>\n",
              "      <th>play</th>\n",
              "    </tr>\n",
              "  </thead>\n",
              "  <tbody>\n",
              "    <tr>\n",
              "      <th>0</th>\n",
              "      <td>0</td>\n",
              "      <td>0</td>\n",
              "      <td>0</td>\n",
              "      <td>0</td>\n",
              "      <td>0</td>\n",
              "    </tr>\n",
              "    <tr>\n",
              "      <th>1</th>\n",
              "      <td>0</td>\n",
              "      <td>0</td>\n",
              "      <td>0</td>\n",
              "      <td>1</td>\n",
              "      <td>0</td>\n",
              "    </tr>\n",
              "    <tr>\n",
              "      <th>2</th>\n",
              "      <td>1</td>\n",
              "      <td>0</td>\n",
              "      <td>0</td>\n",
              "      <td>0</td>\n",
              "      <td>1</td>\n",
              "    </tr>\n",
              "    <tr>\n",
              "      <th>3</th>\n",
              "      <td>2</td>\n",
              "      <td>1</td>\n",
              "      <td>0</td>\n",
              "      <td>0</td>\n",
              "      <td>1</td>\n",
              "    </tr>\n",
              "    <tr>\n",
              "      <th>4</th>\n",
              "      <td>2</td>\n",
              "      <td>2</td>\n",
              "      <td>1</td>\n",
              "      <td>0</td>\n",
              "      <td>1</td>\n",
              "    </tr>\n",
              "    <tr>\n",
              "      <th>5</th>\n",
              "      <td>2</td>\n",
              "      <td>2</td>\n",
              "      <td>1</td>\n",
              "      <td>1</td>\n",
              "      <td>0</td>\n",
              "    </tr>\n",
              "    <tr>\n",
              "      <th>6</th>\n",
              "      <td>1</td>\n",
              "      <td>2</td>\n",
              "      <td>1</td>\n",
              "      <td>1</td>\n",
              "      <td>1</td>\n",
              "    </tr>\n",
              "    <tr>\n",
              "      <th>7</th>\n",
              "      <td>0</td>\n",
              "      <td>1</td>\n",
              "      <td>0</td>\n",
              "      <td>0</td>\n",
              "      <td>0</td>\n",
              "    </tr>\n",
              "    <tr>\n",
              "      <th>8</th>\n",
              "      <td>0</td>\n",
              "      <td>2</td>\n",
              "      <td>1</td>\n",
              "      <td>0</td>\n",
              "      <td>1</td>\n",
              "    </tr>\n",
              "    <tr>\n",
              "      <th>9</th>\n",
              "      <td>2</td>\n",
              "      <td>1</td>\n",
              "      <td>1</td>\n",
              "      <td>0</td>\n",
              "      <td>1</td>\n",
              "    </tr>\n",
              "    <tr>\n",
              "      <th>10</th>\n",
              "      <td>0</td>\n",
              "      <td>1</td>\n",
              "      <td>1</td>\n",
              "      <td>1</td>\n",
              "      <td>1</td>\n",
              "    </tr>\n",
              "    <tr>\n",
              "      <th>11</th>\n",
              "      <td>1</td>\n",
              "      <td>1</td>\n",
              "      <td>0</td>\n",
              "      <td>1</td>\n",
              "      <td>1</td>\n",
              "    </tr>\n",
              "    <tr>\n",
              "      <th>12</th>\n",
              "      <td>1</td>\n",
              "      <td>0</td>\n",
              "      <td>1</td>\n",
              "      <td>0</td>\n",
              "      <td>1</td>\n",
              "    </tr>\n",
              "    <tr>\n",
              "      <th>13</th>\n",
              "      <td>2</td>\n",
              "      <td>1</td>\n",
              "      <td>0</td>\n",
              "      <td>1</td>\n",
              "      <td>0</td>\n",
              "    </tr>\n",
              "  </tbody>\n",
              "</table>\n",
              "</div>"
            ],
            "text/plain": [
              "    outlook  temp  humidity  windy  play\n",
              "0         0     0         0      0     0\n",
              "1         0     0         0      1     0\n",
              "2         1     0         0      0     1\n",
              "3         2     1         0      0     1\n",
              "4         2     2         1      0     1\n",
              "5         2     2         1      1     0\n",
              "6         1     2         1      1     1\n",
              "7         0     1         0      0     0\n",
              "8         0     2         1      0     1\n",
              "9         2     1         1      0     1\n",
              "10        0     1         1      1     1\n",
              "11        1     1         0      1     1\n",
              "12        1     0         1      0     1\n",
              "13        2     1         0      1     0"
            ]
          },
          "metadata": {},
          "execution_count": 8
        }
      ]
    },
    {
      "cell_type": "code",
      "metadata": {
        "colab": {
          "base_uri": "https://localhost:8080/",
          "height": 204
        },
        "id": "VgdSaK7BYZ4v",
        "outputId": "cfb0d8b3-b5c5-49c7-f732-668a708fa0ce"
      },
      "source": [
        "# mostra as primeiras linhas do dataset (útil em caso de grandes datasets)\n",
        "df.head()"
      ],
      "execution_count": null,
      "outputs": [
        {
          "output_type": "execute_result",
          "data": {
            "text/html": [
              "<div>\n",
              "<style scoped>\n",
              "    .dataframe tbody tr th:only-of-type {\n",
              "        vertical-align: middle;\n",
              "    }\n",
              "\n",
              "    .dataframe tbody tr th {\n",
              "        vertical-align: top;\n",
              "    }\n",
              "\n",
              "    .dataframe thead th {\n",
              "        text-align: right;\n",
              "    }\n",
              "</style>\n",
              "<table border=\"1\" class=\"dataframe\">\n",
              "  <thead>\n",
              "    <tr style=\"text-align: right;\">\n",
              "      <th></th>\n",
              "      <th>outlook</th>\n",
              "      <th>temp</th>\n",
              "      <th>humidity</th>\n",
              "      <th>windy</th>\n",
              "      <th>play</th>\n",
              "    </tr>\n",
              "  </thead>\n",
              "  <tbody>\n",
              "    <tr>\n",
              "      <th>0</th>\n",
              "      <td>0</td>\n",
              "      <td>0</td>\n",
              "      <td>0</td>\n",
              "      <td>0</td>\n",
              "      <td>0</td>\n",
              "    </tr>\n",
              "    <tr>\n",
              "      <th>1</th>\n",
              "      <td>0</td>\n",
              "      <td>0</td>\n",
              "      <td>0</td>\n",
              "      <td>1</td>\n",
              "      <td>0</td>\n",
              "    </tr>\n",
              "    <tr>\n",
              "      <th>2</th>\n",
              "      <td>1</td>\n",
              "      <td>0</td>\n",
              "      <td>0</td>\n",
              "      <td>0</td>\n",
              "      <td>1</td>\n",
              "    </tr>\n",
              "    <tr>\n",
              "      <th>3</th>\n",
              "      <td>2</td>\n",
              "      <td>1</td>\n",
              "      <td>0</td>\n",
              "      <td>0</td>\n",
              "      <td>1</td>\n",
              "    </tr>\n",
              "    <tr>\n",
              "      <th>4</th>\n",
              "      <td>2</td>\n",
              "      <td>2</td>\n",
              "      <td>1</td>\n",
              "      <td>0</td>\n",
              "      <td>1</td>\n",
              "    </tr>\n",
              "  </tbody>\n",
              "</table>\n",
              "</div>"
            ],
            "text/plain": [
              "   outlook  temp  humidity  windy  play\n",
              "0        0     0         0      0     0\n",
              "1        0     0         0      1     0\n",
              "2        1     0         0      0     1\n",
              "3        2     1         0      0     1\n",
              "4        2     2         1      0     1"
            ]
          },
          "metadata": {},
          "execution_count": 9
        }
      ]
    },
    {
      "cell_type": "code",
      "metadata": {
        "colab": {
          "base_uri": "https://localhost:8080/"
        },
        "id": "eWp9vIE7YddR",
        "outputId": "a67cc613-1545-4892-a61c-b5f0a3570819"
      },
      "source": [
        "# mostra informações básicas do dataset como quais colunas (e seus tipos) e uso de memória\n",
        "df.info()"
      ],
      "execution_count": null,
      "outputs": [
        {
          "output_type": "stream",
          "name": "stdout",
          "text": [
            "<class 'pandas.core.frame.DataFrame'>\n",
            "RangeIndex: 14 entries, 0 to 13\n",
            "Data columns (total 5 columns):\n",
            " #   Column    Non-Null Count  Dtype\n",
            "---  ------    --------------  -----\n",
            " 0   outlook   14 non-null     int64\n",
            " 1   temp      14 non-null     int64\n",
            " 2   humidity  14 non-null     int64\n",
            " 3   windy     14 non-null     int64\n",
            " 4   play      14 non-null     int64\n",
            "dtypes: int64(5)\n",
            "memory usage: 688.0 bytes\n"
          ]
        }
      ]
    },
    {
      "cell_type": "markdown",
      "metadata": {
        "id": "mhLYCJlVY7jc"
      },
      "source": [
        "### ⚙ Treinamento de testes"
      ]
    },
    {
      "cell_type": "markdown",
      "metadata": {
        "id": "6y_kUvuKabFQ"
      },
      "source": [
        "#### 1️⃣ Abordagem \n",
        "Os mesmos dados que estão sendo usados para o trienamento serão usados para testes (overcasting)."
      ]
    },
    {
      "cell_type": "code",
      "metadata": {
        "id": "tFwoJpiSYgCw"
      },
      "source": [
        "# Variáveis X são as colunas features e Variáveis Y trata-se da coluna target\n",
        "# separa as colunas de features (colunas com os dados)\n",
        "feature_cols = ['outlook','temp','humidity','windy']\n",
        "X_train = df[feature_cols]   # Features (conj. dados)"
      ],
      "execution_count": null,
      "outputs": []
    },
    {
      "cell_type": "code",
      "metadata": {
        "id": "MBSrN6VBakM2"
      },
      "source": [
        "# separa a coluna target (colunas com os dados das classes)\n",
        "y_train = df.play  # Target variable (conj. dados)"
      ],
      "execution_count": null,
      "outputs": []
    },
    {
      "cell_type": "code",
      "metadata": {
        "colab": {
          "base_uri": "https://localhost:8080/",
          "height": 35
        },
        "id": "2Jm6f7f4aoEY",
        "outputId": "53d0b74f-811b-4a85-b80d-89e37ca58994"
      },
      "source": [
        "# mostra as colunas separadas para treinamento\n",
        "X_train.columns   # nomes das colunas features para treinamento\n",
        "df.columns[4]     # nome da coluna targer para treinamento"
      ],
      "execution_count": null,
      "outputs": [
        {
          "output_type": "execute_result",
          "data": {
            "application/vnd.google.colaboratory.intrinsic+json": {
              "type": "string"
            },
            "text/plain": [
              "'play'"
            ]
          },
          "metadata": {},
          "execution_count": 13
        }
      ]
    },
    {
      "cell_type": "code",
      "metadata": {
        "id": "dBSUCbm_avAJ"
      },
      "source": [
        "# constrói o modelo usando critério “Entropia”\n",
        "clf = DecisionTreeClassifier(criterion='entropy')"
      ],
      "execution_count": null,
      "outputs": []
    },
    {
      "cell_type": "code",
      "metadata": {
        "id": "bnGkrjrMazS7"
      },
      "source": [
        "# treina o modelo – observe que nessa abordagem está usando os mesmos dados para treinamento e testes (sem separação)\n",
        "clf = clf.fit(X_train,y_train)"
      ],
      "execution_count": null,
      "outputs": []
    },
    {
      "cell_type": "code",
      "metadata": {
        "colab": {
          "base_uri": "https://localhost:8080/"
        },
        "id": "xhMEUzeYa11L",
        "outputId": "9f38da37-3e22-482e-dde0-c391bd489102"
      },
      "source": [
        "# mostra modelo processado\n",
        "clf"
      ],
      "execution_count": null,
      "outputs": [
        {
          "output_type": "execute_result",
          "data": {
            "text/plain": [
              "DecisionTreeClassifier(ccp_alpha=0.0, class_weight=None, criterion='entropy',\n",
              "                       max_depth=None, max_features=None, max_leaf_nodes=None,\n",
              "                       min_impurity_decrease=0.0, min_impurity_split=None,\n",
              "                       min_samples_leaf=1, min_samples_split=2,\n",
              "                       min_weight_fraction_leaf=0.0, presort='deprecated',\n",
              "                       random_state=None, splitter='best')"
            ]
          },
          "metadata": {},
          "execution_count": 16
        }
      ]
    },
    {
      "cell_type": "code",
      "metadata": {
        "colab": {
          "base_uri": "https://localhost:8080/",
          "height": 575
        },
        "id": "2-yT8sz0a4OJ",
        "outputId": "cfe8b1f0-5b2a-43ac-cf2a-2b467d08e381"
      },
      "source": [
        "# mostra a árvore\n",
        "fig1 = plt.figure(figsize=(10,10))\n",
        "_ = tree.plot_tree(clf, feature_names=X_train.columns,class_names=df.columns[4], filled=True)\n",
        "fig1.savefig(\"fig1.png\")"
      ],
      "execution_count": null,
      "outputs": [
        {
          "output_type": "display_data",
          "data": {
            "image/png": "[encoded data removed]",
            "text/plain": [
              "<Figure size 720x720 with 1 Axes>"
            ]
          },
          "metadata": {
            "needs_background": "light"
          }
        }
      ]
    },
    {
      "cell_type": "markdown",
      "metadata": {
        "id": "W2Uo2lBybJlS"
      },
      "source": [
        "#### 2️⃣ Abordagem \n",
        "Serão separados 70% dos dados do arquivo para treinamento do algoritmo e os outros 30% para a execução do teste."
      ]
    },
    {
      "cell_type": "code",
      "metadata": {
        "id": "ws8IdILXa8RY"
      },
      "source": [
        "# separa as colunas de features (colunas com os dados)\n",
        "feature_cols = ['outlook','temp','humidity','windy']\n",
        "X_train = df[feature_cols]   # Features (conj. dados)"
      ],
      "execution_count": null,
      "outputs": []
    },
    {
      "cell_type": "code",
      "metadata": {
        "id": "WCh_4uMabsVB"
      },
      "source": [
        "# separa a coluna target (colunas com os dados das classes)\n",
        "y_train = df.play   # Target variable (conj. dados)"
      ],
      "execution_count": null,
      "outputs": []
    },
    {
      "cell_type": "markdown",
      "metadata": {
        "id": "0yfD65Vjct1L"
      },
      "source": [
        "##### 📥 Importando ***train_test_split***\n",
        "\n",
        "Uso do Modelo para fazer Classificações com os dados de Testes. </br>\n",
        "Para funcionar, deve ser importada a biblioteca:"
      ]
    },
    {
      "cell_type": "code",
      "metadata": {
        "id": "SYcyTCGxbvs5"
      },
      "source": [
        "from sklearn.model_selection import train_test_split"
      ],
      "execution_count": null,
      "outputs": []
    },
    {
      "cell_type": "code",
      "metadata": {
        "id": "MooIx4gmbzZP"
      },
      "source": [
        "# Separação de dados para Treinamento (train) e Testes (test); Variáveis X são as colunas features e Variáveis Y trata-se da coluna target\n",
        "X_train, X_test, y_train, y_test = train_test_split(X_train, y_train, test_size=0.3, random_state=1)"
      ],
      "execution_count": null,
      "outputs": []
    },
    {
      "cell_type": "code",
      "metadata": {
        "colab": {
          "base_uri": "https://localhost:8080/",
          "height": 204
        },
        "id": "WibdvW7Nb1On",
        "outputId": "55c95362-c8cc-43b9-d9f1-188e7a9b684d"
      },
      "source": [
        "# Visualização dos dados de Treinamento e Testes, já separados\n",
        "X_train\n",
        "X_test"
      ],
      "execution_count": null,
      "outputs": [
        {
          "output_type": "execute_result",
          "data": {
            "text/html": [
              "<div>\n",
              "<style scoped>\n",
              "    .dataframe tbody tr th:only-of-type {\n",
              "        vertical-align: middle;\n",
              "    }\n",
              "\n",
              "    .dataframe tbody tr th {\n",
              "        vertical-align: top;\n",
              "    }\n",
              "\n",
              "    .dataframe thead th {\n",
              "        text-align: right;\n",
              "    }\n",
              "</style>\n",
              "<table border=\"1\" class=\"dataframe\">\n",
              "  <thead>\n",
              "    <tr style=\"text-align: right;\">\n",
              "      <th></th>\n",
              "      <th>outlook</th>\n",
              "      <th>temp</th>\n",
              "      <th>humidity</th>\n",
              "      <th>windy</th>\n",
              "    </tr>\n",
              "  </thead>\n",
              "  <tbody>\n",
              "    <tr>\n",
              "      <th>3</th>\n",
              "      <td>2</td>\n",
              "      <td>1</td>\n",
              "      <td>0</td>\n",
              "      <td>0</td>\n",
              "    </tr>\n",
              "    <tr>\n",
              "      <th>7</th>\n",
              "      <td>0</td>\n",
              "      <td>1</td>\n",
              "      <td>0</td>\n",
              "      <td>0</td>\n",
              "    </tr>\n",
              "    <tr>\n",
              "      <th>6</th>\n",
              "      <td>1</td>\n",
              "      <td>2</td>\n",
              "      <td>1</td>\n",
              "      <td>1</td>\n",
              "    </tr>\n",
              "    <tr>\n",
              "      <th>2</th>\n",
              "      <td>1</td>\n",
              "      <td>0</td>\n",
              "      <td>0</td>\n",
              "      <td>0</td>\n",
              "    </tr>\n",
              "    <tr>\n",
              "      <th>10</th>\n",
              "      <td>0</td>\n",
              "      <td>1</td>\n",
              "      <td>1</td>\n",
              "      <td>1</td>\n",
              "    </tr>\n",
              "  </tbody>\n",
              "</table>\n",
              "</div>"
            ],
            "text/plain": [
              "    outlook  temp  humidity  windy\n",
              "3         2     1         0      0\n",
              "7         0     1         0      0\n",
              "6         1     2         1      1\n",
              "2         1     0         0      0\n",
              "10        0     1         1      1"
            ]
          },
          "metadata": {},
          "execution_count": 22
        }
      ]
    },
    {
      "cell_type": "code",
      "metadata": {
        "id": "sbl6q7K5b3-G"
      },
      "source": [
        "# constrói o modelo usando critério “Entropia”\n",
        "clf = DecisionTreeClassifier(criterion='entropy')"
      ],
      "execution_count": null,
      "outputs": []
    },
    {
      "cell_type": "code",
      "metadata": {
        "id": "d-egjzZdb69y"
      },
      "source": [
        "# treina o modelo – observe que nessa abordagem está usando os mesmos dados para treinamento e testes (sem separação)\n",
        "clf = clf.fit(X_train,y_train)"
      ],
      "execution_count": null,
      "outputs": []
    },
    {
      "cell_type": "code",
      "metadata": {
        "colab": {
          "base_uri": "https://localhost:8080/"
        },
        "id": "aNuOykH6b9FM",
        "outputId": "3e1e2c57-abe8-4424-fa62-a29d44fd3ef2"
      },
      "source": [
        "# mostra modelo processado\n",
        "clf"
      ],
      "execution_count": null,
      "outputs": [
        {
          "output_type": "execute_result",
          "data": {
            "text/plain": [
              "DecisionTreeClassifier(ccp_alpha=0.0, class_weight=None, criterion='entropy',\n",
              "                       max_depth=None, max_features=None, max_leaf_nodes=None,\n",
              "                       min_impurity_decrease=0.0, min_impurity_split=None,\n",
              "                       min_samples_leaf=1, min_samples_split=2,\n",
              "                       min_weight_fraction_leaf=0.0, presort='deprecated',\n",
              "                       random_state=None, splitter='best')"
            ]
          },
          "metadata": {},
          "execution_count": 25
        }
      ]
    },
    {
      "cell_type": "code",
      "metadata": {
        "colab": {
          "base_uri": "https://localhost:8080/",
          "height": 575
        },
        "id": "PA4J_6rIb-vg",
        "outputId": "89256287-dc27-402a-b077-3fa9da1ca5af"
      },
      "source": [
        "# mostra a árvore\n",
        "fig2 = plt.figure(figsize=(10,10))\n",
        "_ = tree.plot_tree(clf, feature_names=X_train.columns,class_names=df.columns[4], filled=True)\n",
        "fig2.savefig(\"fig2.png\")"
      ],
      "execution_count": null,
      "outputs": [
        {
          "output_type": "display_data",
          "data": {
            "image/png": "[encoded data removed]",
            "text/plain": [
              "<Figure size 720x720 with 1 Axes>"
            ]
          },
          "metadata": {
            "needs_background": "light"
          }
        }
      ]
    },
    {
      "cell_type": "code",
      "metadata": {
        "id": "qQzdbSxucBcW"
      },
      "source": [
        "# uso do modelo para fazer predições (classificações) com os dados de testes\n",
        "y_pred = clf.predict(X_test)"
      ],
      "execution_count": null,
      "outputs": []
    },
    {
      "cell_type": "markdown",
      "metadata": {
        "id": "lU65Mg89dF5O"
      },
      "source": [
        "##### 📥 Importando ***metrics***\n",
        "\n",
        "Para saber como o nosso modelo permofou é necessário importar a seguinte biblioteca:"
      ]
    },
    {
      "cell_type": "code",
      "metadata": {
        "id": "3_id7WMCcDp2"
      },
      "source": [
        "from sklearn import metrics"
      ],
      "execution_count": null,
      "outputs": []
    },
    {
      "cell_type": "code",
      "metadata": {
        "colab": {
          "base_uri": "https://localhost:8080/"
        },
        "id": "qLU8kD_dcHIy",
        "outputId": "e1ec8d9a-3bda-4a2b-90dc-118fe1e60097"
      },
      "source": [
        "count_misclassified = (y_test != y_pred).sum()\n",
        "print('Amostras erroneamente classificadas: {}'.format(count_misclassified))\n",
        "accuracy = metrics.accuracy_score(y_test, y_pred)\n",
        "print('Acuracia: {:.2f}'.format(accuracy))"
      ],
      "execution_count": null,
      "outputs": [
        {
          "output_type": "stream",
          "name": "stdout",
          "text": [
            "Amostras erroneamente classificadas: 3\n",
            "Acuracia: 0.40\n"
          ]
        }
      ]
    },
    {
      "cell_type": "markdown",
      "metadata": {
        "id": "NhbqEeuZdame"
      },
      "source": [
        "##### 📥 Importando ***numpy***\n",
        "\n",
        "Para testar uma amostra específica é necessário importar a seguinte bibloteca:"
      ]
    },
    {
      "cell_type": "code",
      "metadata": {
        "id": "GFQkJRefcNhU"
      },
      "source": [
        "import numpy as np"
      ],
      "execution_count": null,
      "outputs": []
    },
    {
      "cell_type": "code",
      "metadata": {
        "colab": {
          "base_uri": "https://localhost:8080/"
        },
        "id": "n-TpRnIzcUig",
        "outputId": "e179b96e-45d1-4f29-8e5a-9b5fd0b20f09"
      },
      "source": [
        "# Para a Entrada outlook=1 ; temp=0; humidity=1; windy=0\n",
        "# Qual a classe (saída)?\n",
        "W_test = np.array ([[1, 0, 1, 0]]) \n",
        "y_pred = clf.predict(W_test)\n",
        "y_pred\n",
        "# Resposta: 1 (Yes) - \n",
        "#Linha 12 do Dataset e que também está presente no Treinamento!!"
      ],
      "execution_count": null,
      "outputs": [
        {
          "output_type": "execute_result",
          "data": {
            "text/plain": [
              "array([1])"
            ]
          },
          "metadata": {},
          "execution_count": 31
        }
      ]
    }
  ]
}