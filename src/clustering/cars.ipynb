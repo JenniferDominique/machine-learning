{
  "nbformat": 4,
  "nbformat_minor": 0,
  "metadata": {
    "colab": {
      "name": "cars",
      "provenance": []
    },
    "kernelspec": {
      "name": "python3",
      "display_name": "Python 3"
    },
    "language_info": {
      "name": "python"
    }
  },
  "cells": [
    {
      "cell_type": "markdown",
      "metadata": {
        "id": "ltalWodeXZy2"
      },
      "source": [
        "\n",
        "  \n",
        "  # **🧪 Laboratório # 10**\n",
        "\n",
        "  ### ASSUNTO: 📈 Agrupamento (Clustering) usando K-means com Python\n",
        "\n",
        "\n",
        "\n",
        "---\n"
      ]
    },
    {
      "cell_type": "markdown",
      "metadata": {
        "id": "rXbxWNXrX6Dm"
      },
      "source": [
        "### 📚 Materiais de apoio\n",
        "\n",
        "- [Scikit Learn](scikit-learn.org/)\n",
        "- [Clustering em Python](https://minerandodados.com.br/analise-e-agrupamento-de-clientes-com-machine-learning-k-means/)\n",
        "- [Youtube - Material bem interessante para Clustering em Python](www.youtube.com/watch?v=piDlrtfz58s)"
      ]
    },
    {
      "cell_type": "markdown",
      "metadata": {
        "id": "bc8GyAOIYiEt"
      },
      "source": [
        "### 📥 Importando as bibliotecas"
      ]
    },
    {
      "cell_type": "code",
      "metadata": {
        "id": "YNlaO4EKXOf6"
      },
      "source": [
        "import matplotlib.pyplot as plt\n",
        "import pandas as pd\n",
        "from sklearn.cluster import KMeans"
      ],
      "execution_count": null,
      "outputs": []
    },
    {
      "cell_type": "markdown",
      "metadata": {
        "id": "WdPl9gs2ZDNp"
      },
      "source": [
        "### 📄 Dados utilizados nesse notebook\n",
        "\n",
        "Fazendo a leitura do arquivo que contém os dados (dataframe - df) que serão analisados nesse notebook."
      ]
    },
    {
      "cell_type": "code",
      "metadata": {
        "id": "845ze4gwZUrF",
        "colab": {
          "base_uri": "https://localhost:8080/",
          "height": 206
        },
        "outputId": "31fe16a0-dea1-4173-900d-2a6ca692194c"
      },
      "source": [
        "url = 'https://raw.githubusercontent.com/JenniferDominique/machine-learning/main/data/cars.csv'\n",
        "\n",
        "# leitura de dados (CSV), separados por ponto e vírgula no nesse caso\n",
        "df = pd.read_csv(url, delimiter=';', error_bad_lines=False)\n",
        "df.head() #Exibindo os 5 primeiros dados do dataframe"
      ],
      "execution_count": null,
      "outputs": [
        {
          "output_type": "execute_result",
          "data": {
            "text/html": [
              "<div>\n",
              "<style scoped>\n",
              "    .dataframe tbody tr th:only-of-type {\n",
              "        vertical-align: middle;\n",
              "    }\n",
              "\n",
              "    .dataframe tbody tr th {\n",
              "        vertical-align: top;\n",
              "    }\n",
              "\n",
              "    .dataframe thead th {\n",
              "        text-align: right;\n",
              "    }\n",
              "</style>\n",
              "<table border=\"1\" class=\"dataframe\">\n",
              "  <thead>\n",
              "    <tr style=\"text-align: right;\">\n",
              "      <th></th>\n",
              "      <th>0</th>\n",
              "      <th>0.1</th>\n",
              "      <th>0.2</th>\n",
              "      <th>1</th>\n",
              "      <th>0.3</th>\n",
              "      <th>0.4</th>\n",
              "      <th>0.5</th>\n",
              "      <th>1.1</th>\n",
              "      <th>1.2</th>\n",
              "      <th>0.6</th>\n",
              "      <th>0.7</th>\n",
              "      <th>0.8</th>\n",
              "      <th>1.3</th>\n",
              "      <th>0.9</th>\n",
              "      <th>0.10</th>\n",
              "      <th>1.4</th>\n",
              "      <th>0.11</th>\n",
              "      <th>0.12</th>\n",
              "      <th>1.5</th>\n",
              "      <th>0.13</th>\n",
              "      <th>0.14</th>\n",
              "      <th>1.6</th>\n",
              "      <th>0.15</th>\n",
              "      <th>0.16</th>\n",
              "      <th>0.17</th>\n",
              "    </tr>\n",
              "  </thead>\n",
              "  <tbody>\n",
              "    <tr>\n",
              "      <th>0</th>\n",
              "      <td>0</td>\n",
              "      <td>0</td>\n",
              "      <td>0</td>\n",
              "      <td>1</td>\n",
              "      <td>0</td>\n",
              "      <td>0</td>\n",
              "      <td>0</td>\n",
              "      <td>1</td>\n",
              "      <td>1</td>\n",
              "      <td>0</td>\n",
              "      <td>0</td>\n",
              "      <td>0</td>\n",
              "      <td>1</td>\n",
              "      <td>0</td>\n",
              "      <td>0</td>\n",
              "      <td>1</td>\n",
              "      <td>0</td>\n",
              "      <td>0</td>\n",
              "      <td>0</td>\n",
              "      <td>1</td>\n",
              "      <td>0</td>\n",
              "      <td>1</td>\n",
              "      <td>0</td>\n",
              "      <td>0</td>\n",
              "      <td>0</td>\n",
              "    </tr>\n",
              "    <tr>\n",
              "      <th>1</th>\n",
              "      <td>0</td>\n",
              "      <td>0</td>\n",
              "      <td>0</td>\n",
              "      <td>1</td>\n",
              "      <td>0</td>\n",
              "      <td>0</td>\n",
              "      <td>0</td>\n",
              "      <td>1</td>\n",
              "      <td>1</td>\n",
              "      <td>0</td>\n",
              "      <td>0</td>\n",
              "      <td>0</td>\n",
              "      <td>1</td>\n",
              "      <td>0</td>\n",
              "      <td>0</td>\n",
              "      <td>1</td>\n",
              "      <td>0</td>\n",
              "      <td>0</td>\n",
              "      <td>0</td>\n",
              "      <td>0</td>\n",
              "      <td>1</td>\n",
              "      <td>1</td>\n",
              "      <td>0</td>\n",
              "      <td>0</td>\n",
              "      <td>0</td>\n",
              "    </tr>\n",
              "    <tr>\n",
              "      <th>2</th>\n",
              "      <td>0</td>\n",
              "      <td>0</td>\n",
              "      <td>0</td>\n",
              "      <td>1</td>\n",
              "      <td>0</td>\n",
              "      <td>0</td>\n",
              "      <td>0</td>\n",
              "      <td>1</td>\n",
              "      <td>1</td>\n",
              "      <td>0</td>\n",
              "      <td>0</td>\n",
              "      <td>0</td>\n",
              "      <td>1</td>\n",
              "      <td>0</td>\n",
              "      <td>0</td>\n",
              "      <td>0</td>\n",
              "      <td>1</td>\n",
              "      <td>0</td>\n",
              "      <td>1</td>\n",
              "      <td>0</td>\n",
              "      <td>0</td>\n",
              "      <td>1</td>\n",
              "      <td>0</td>\n",
              "      <td>0</td>\n",
              "      <td>0</td>\n",
              "    </tr>\n",
              "    <tr>\n",
              "      <th>3</th>\n",
              "      <td>0</td>\n",
              "      <td>0</td>\n",
              "      <td>0</td>\n",
              "      <td>1</td>\n",
              "      <td>0</td>\n",
              "      <td>0</td>\n",
              "      <td>0</td>\n",
              "      <td>1</td>\n",
              "      <td>1</td>\n",
              "      <td>0</td>\n",
              "      <td>0</td>\n",
              "      <td>0</td>\n",
              "      <td>1</td>\n",
              "      <td>0</td>\n",
              "      <td>0</td>\n",
              "      <td>0</td>\n",
              "      <td>1</td>\n",
              "      <td>0</td>\n",
              "      <td>0</td>\n",
              "      <td>1</td>\n",
              "      <td>0</td>\n",
              "      <td>1</td>\n",
              "      <td>0</td>\n",
              "      <td>0</td>\n",
              "      <td>0</td>\n",
              "    </tr>\n",
              "    <tr>\n",
              "      <th>4</th>\n",
              "      <td>0</td>\n",
              "      <td>0</td>\n",
              "      <td>0</td>\n",
              "      <td>1</td>\n",
              "      <td>0</td>\n",
              "      <td>0</td>\n",
              "      <td>0</td>\n",
              "      <td>1</td>\n",
              "      <td>1</td>\n",
              "      <td>0</td>\n",
              "      <td>0</td>\n",
              "      <td>0</td>\n",
              "      <td>1</td>\n",
              "      <td>0</td>\n",
              "      <td>0</td>\n",
              "      <td>0</td>\n",
              "      <td>1</td>\n",
              "      <td>0</td>\n",
              "      <td>0</td>\n",
              "      <td>0</td>\n",
              "      <td>1</td>\n",
              "      <td>1</td>\n",
              "      <td>0</td>\n",
              "      <td>0</td>\n",
              "      <td>0</td>\n",
              "    </tr>\n",
              "  </tbody>\n",
              "</table>\n",
              "</div>"
            ],
            "text/plain": [
              "   0  0.1  0.2  1  0.3  0.4  0.5  ...  1.5  0.13  0.14  1.6  0.15  0.16  0.17\n",
              "0  0    0    0  1    0    0    0  ...    0     1     0    1     0     0     0\n",
              "1  0    0    0  1    0    0    0  ...    0     0     1    1     0     0     0\n",
              "2  0    0    0  1    0    0    0  ...    1     0     0    1     0     0     0\n",
              "3  0    0    0  1    0    0    0  ...    0     1     0    1     0     0     0\n",
              "4  0    0    0  1    0    0    0  ...    0     0     1    1     0     0     0\n",
              "\n",
              "[5 rows x 25 columns]"
            ]
          },
          "metadata": {},
          "execution_count": 2
        }
      ]
    },
    {
      "cell_type": "markdown",
      "metadata": {
        "id": "Zl7Mz6xwkPWI"
      },
      "source": [
        "Informações quantitativas do dataframe: 1727 linhas e 25 colunas"
      ]
    },
    {
      "cell_type": "code",
      "metadata": {
        "colab": {
          "base_uri": "https://localhost:8080/"
        },
        "id": "cp3_T1x8kIwf",
        "outputId": "712360d5-90e4-480d-d717-e018180864a3"
      },
      "source": [
        "df.shape"
      ],
      "execution_count": null,
      "outputs": [
        {
          "output_type": "execute_result",
          "data": {
            "text/plain": [
              "(1727, 25)"
            ]
          },
          "metadata": {},
          "execution_count": 3
        }
      ]
    },
    {
      "cell_type": "markdown",
      "metadata": {
        "id": "VGIunyXkaC5y"
      },
      "source": [
        "### 📦 Agrupamento (Clustering) usando K-means\n",
        "\n",
        "Criação do modelo de Agrupamento (Clustering) usando K-Means.\n",
        "\n",
        "Parametrizando K-Means com 3 Clusters e Método de Inicialização Randômica.\n"
      ]
    },
    {
      "cell_type": "code",
      "metadata": {
        "colab": {
          "base_uri": "https://localhost:8080/"
        },
        "id": "oxs08KN1aD2L",
        "outputId": "e0b8f6fb-48d4-4679-cad5-d5bd715ee31a"
      },
      "source": [
        "kmeans = KMeans(n_clusters = 3, init = 'random')\n",
        "kmeans"
      ],
      "execution_count": null,
      "outputs": [
        {
          "output_type": "execute_result",
          "data": {
            "text/plain": [
              "KMeans(algorithm='auto', copy_x=True, init='random', max_iter=300, n_clusters=3,\n",
              "       n_init=10, n_jobs=None, precompute_distances='auto', random_state=None,\n",
              "       tol=0.0001, verbose=0)"
            ]
          },
          "metadata": {},
          "execution_count": 5
        }
      ]
    },
    {
      "cell_type": "markdown",
      "metadata": {
        "id": "ayvuF0RAmmxQ"
      },
      "source": [
        "Treinando o modelo com os dados."
      ]
    },
    {
      "cell_type": "code",
      "metadata": {
        "colab": {
          "base_uri": "https://localhost:8080/"
        },
        "id": "K8In_t1MmkP7",
        "outputId": "b1b68693-8b4c-4588-8e21-9975ebcd824a"
      },
      "source": [
        "kmeans.fit(df)"
      ],
      "execution_count": null,
      "outputs": [
        {
          "output_type": "execute_result",
          "data": {
            "text/plain": [
              "KMeans(algorithm='auto', copy_x=True, init='random', max_iter=300, n_clusters=3,\n",
              "       n_init=10, n_jobs=None, precompute_distances='auto', random_state=None,\n",
              "       tol=0.0001, verbose=0)"
            ]
          },
          "metadata": {},
          "execution_count": 6
        }
      ]
    },
    {
      "cell_type": "markdown",
      "metadata": {
        "id": "nywBVyJ4mwCI"
      },
      "source": [
        "Exibindo os **Centroids** - São 3 grupos, portanto, 3 linhas com 8 colunas *= 8 features*"
      ]
    },
    {
      "cell_type": "code",
      "metadata": {
        "colab": {
          "base_uri": "https://localhost:8080/"
        },
        "id": "u2EZriU_m7Uk",
        "outputId": "878cedb6-b0d1-4993-e794-40c4a3c00328"
      },
      "source": [
        "kmeans.cluster_centers_"
      ],
      "execution_count": null,
      "outputs": [
        {
          "output_type": "execute_result",
          "data": {
            "text/plain": [
              "array([[ 1.79810726e-01,  1.95583596e-01,  2.83911672e-01,\n",
              "         3.40694006e-01,  1.95583596e-01,  1.95583596e-01,\n",
              "         2.68138801e-01,  3.40694006e-01,  2.87066246e-01,\n",
              "         2.46056782e-01,  2.33438486e-01,  2.33438486e-01,\n",
              "         3.27515792e-15,  4.92113565e-01,  5.07886435e-01,\n",
              "         4.06940063e-01,  3.15457413e-01,  2.77602524e-01,\n",
              "         6.05678233e-01,  2.60252366e-01,  1.34069401e-01,\n",
              "         1.00000000e+00, -1.91513472e-15, -5.41233725e-16,\n",
              "         5.75928194e-16],\n",
              "       [ 2.50434783e-01,  2.50434783e-01,  2.50434783e-01,\n",
              "         2.48695652e-01,  2.50434783e-01,  2.50434783e-01,\n",
              "         2.50434783e-01,  2.48695652e-01,  2.48695652e-01,\n",
              "         2.50434783e-01,  2.50434783e-01,  2.50434783e-01,\n",
              "         1.00000000e+00,  2.72004641e-15,  2.72004641e-15,\n",
              "         3.32173913e-01,  3.33913043e-01,  3.33913043e-01,\n",
              "         3.32173913e-01,  3.33913043e-01,  3.33913043e-01,\n",
              "         1.00000000e+00, -2.91433544e-15, -5.06539255e-16,\n",
              "         5.48172618e-16],\n",
              "       [ 3.35907336e-01,  3.16602317e-01,  2.08494208e-01,\n",
              "         1.38996139e-01,  3.16602317e-01,  3.16602317e-01,\n",
              "         2.27799228e-01,  1.38996139e-01,  2.04633205e-01,\n",
              "         2.54826255e-01,  2.70270270e-01,  2.70270270e-01,\n",
              "         2.83106871e-15,  5.09652510e-01,  4.90347490e-01,\n",
              "         2.43243243e-01,  3.55212355e-01,  4.01544402e-01,\n",
              "         2.83106871e-15,  4.22779923e-01,  5.77220077e-01,\n",
              "         4.99600361e-15,  7.41312741e-01,  1.33204633e-01,\n",
              "         1.25482625e-01]])"
            ]
          },
          "metadata": {},
          "execution_count": 7
        }
      ]
    },
    {
      "cell_type": "markdown",
      "metadata": {
        "id": "XRPAUHmAnA03"
      },
      "source": [
        "Treinando novamente o modelo com os Dados.\n",
        "\n",
        "Observe que novos **Centroids** são calculados (inicialização randômica!)"
      ]
    },
    {
      "cell_type": "code",
      "metadata": {
        "colab": {
          "base_uri": "https://localhost:8080/"
        },
        "id": "5GJvj1xknaMJ",
        "outputId": "657599c3-f24d-4304-88dd-4a813e78a56d"
      },
      "source": [
        "kmeans.fit(df)"
      ],
      "execution_count": null,
      "outputs": [
        {
          "output_type": "execute_result",
          "data": {
            "text/plain": [
              "KMeans(algorithm='auto', copy_x=True, init='random', max_iter=300, n_clusters=3,\n",
              "       n_init=10, n_jobs=None, precompute_distances='auto', random_state=None,\n",
              "       tol=0.0001, verbose=0)"
            ]
          },
          "metadata": {},
          "execution_count": 10
        }
      ]
    },
    {
      "cell_type": "markdown",
      "metadata": {
        "id": "RrSt8TaFnhtT"
      },
      "source": [
        "Exibindo os **Centroids** - São 3 grupos, portanto, 3 linhas com 8 colunas *= 8 features*"
      ]
    },
    {
      "cell_type": "code",
      "metadata": {
        "colab": {
          "base_uri": "https://localhost:8080/"
        },
        "id": "uxFrOFd2nppw",
        "outputId": "a2f0102a-d8ea-427d-c0bc-ec0dc21bda57"
      },
      "source": [
        "kmeans.cluster_centers_"
      ],
      "execution_count": null,
      "outputs": [
        {
          "output_type": "execute_result",
          "data": {
            "text/plain": [
              "array([[ 1.79810726e-01,  1.95583596e-01,  2.83911672e-01,\n",
              "         3.40694006e-01,  1.95583596e-01,  1.95583596e-01,\n",
              "         2.68138801e-01,  3.40694006e-01,  2.87066246e-01,\n",
              "         2.46056782e-01,  2.33438486e-01,  2.33438486e-01,\n",
              "         3.27515792e-15,  4.92113565e-01,  5.07886435e-01,\n",
              "         4.06940063e-01,  3.15457413e-01,  2.77602524e-01,\n",
              "         6.05678233e-01,  2.60252366e-01,  1.34069401e-01,\n",
              "         1.00000000e+00, -1.91513472e-15, -5.41233725e-16,\n",
              "         5.75928194e-16],\n",
              "       [ 3.35907336e-01,  3.16602317e-01,  2.08494208e-01,\n",
              "         1.38996139e-01,  3.16602317e-01,  3.16602317e-01,\n",
              "         2.27799228e-01,  1.38996139e-01,  2.04633205e-01,\n",
              "         2.54826255e-01,  2.70270270e-01,  2.70270270e-01,\n",
              "         2.83106871e-15,  5.09652510e-01,  4.90347490e-01,\n",
              "         2.43243243e-01,  3.55212355e-01,  4.01544402e-01,\n",
              "         2.83106871e-15,  4.22779923e-01,  5.77220077e-01,\n",
              "         4.99600361e-15,  7.41312741e-01,  1.33204633e-01,\n",
              "         1.25482625e-01],\n",
              "       [ 2.50434783e-01,  2.50434783e-01,  2.50434783e-01,\n",
              "         2.48695652e-01,  2.50434783e-01,  2.50434783e-01,\n",
              "         2.50434783e-01,  2.48695652e-01,  2.48695652e-01,\n",
              "         2.50434783e-01,  2.50434783e-01,  2.50434783e-01,\n",
              "         1.00000000e+00,  2.72004641e-15,  2.72004641e-15,\n",
              "         3.32173913e-01,  3.33913043e-01,  3.33913043e-01,\n",
              "         3.32173913e-01,  3.33913043e-01,  3.33913043e-01,\n",
              "         1.00000000e+00, -2.91433544e-15, -5.06539255e-16,\n",
              "         5.48172618e-16]])"
            ]
          },
          "metadata": {},
          "execution_count": 11
        }
      ]
    },
    {
      "cell_type": "markdown",
      "metadata": {
        "id": "0TqFnFdvnw-c"
      },
      "source": [
        "Executa K-Means para agrupar os dados e retorna Tabela de Distâncias (fit_transform).\n",
        "\n",
        "Calcula a distância entre os dados de cada linha (instância) e cada um dos 3 clusters.\n"
      ]
    },
    {
      "cell_type": "code",
      "metadata": {
        "colab": {
          "base_uri": "https://localhost:8080/"
        },
        "id": "Pf8Csw4vn6A9",
        "outputId": "8668c9da-9f09-4453-9cfe-d36c29183c97"
      },
      "source": [
        "distance = kmeans.fit_transform(df)\n",
        "distance"
      ],
      "execution_count": null,
      "outputs": [
        {
          "output_type": "execute_result",
          "data": {
            "text/plain": [
              "array([[2.72853075, 1.89534421, 2.19254136],\n",
              "       [2.67132921, 1.89534421, 2.24935625],\n",
              "       [2.84015874, 1.89534421, 2.07348768],\n",
              "       ...,\n",
              "       [2.47241456, 2.36260341, 2.01953732],\n",
              "       [2.23626131, 2.75289241, 2.60180374],\n",
              "       [2.16966088, 2.75289241, 2.64985823]])"
            ]
          },
          "metadata": {},
          "execution_count": 17
        }
      ]
    },
    {
      "cell_type": "markdown",
      "metadata": {
        "id": "SVRErTGpo1IE"
      },
      "source": [
        "Para cada uma das 100 linhas do dataset, a qual dos 3 clusters ela pertence? 0, 1 ou 2 ?\n",
        "\n",
        "São 100 elementos no array, ou seja, um por linha.\n"
      ]
    },
    {
      "cell_type": "code",
      "metadata": {
        "colab": {
          "base_uri": "https://localhost:8080/"
        },
        "id": "izlFz8Lzov33",
        "outputId": "4ade1eb4-7237-4ee2-cf86-ab132eb6d884"
      },
      "source": [
        "labels = kmeans.labels_\n",
        "labels"
      ],
      "execution_count": null,
      "outputs": [
        {
          "output_type": "execute_result",
          "data": {
            "text/plain": [
              "array([1, 1, 1, ..., 2, 0, 0], dtype=int32)"
            ]
          },
          "metadata": {},
          "execution_count": 18
        }
      ]
    },
    {
      "cell_type": "markdown",
      "metadata": {
        "id": "pIDidQ_wpFvQ"
      },
      "source": [
        " Exibindo novamente os **Centroids** (atualizados) - São 3 grupos, portanto, 3 linhas com 8 colunas = *8 features*"
      ]
    },
    {
      "cell_type": "code",
      "metadata": {
        "colab": {
          "base_uri": "https://localhost:8080/"
        },
        "id": "TQn8GcenowvZ",
        "outputId": "33fe90a3-2bba-4ac4-9b0d-f83956c4c02c"
      },
      "source": [
        "kmeans.cluster_centers_"
      ],
      "execution_count": null,
      "outputs": [
        {
          "output_type": "execute_result",
          "data": {
            "text/plain": [
              "array([[ 3.35907336e-01,  3.16602317e-01,  2.08494208e-01,\n",
              "         1.38996139e-01,  3.16602317e-01,  3.16602317e-01,\n",
              "         2.27799228e-01,  1.38996139e-01,  2.04633205e-01,\n",
              "         2.54826255e-01,  2.70270270e-01,  2.70270270e-01,\n",
              "         2.83106871e-15,  5.09652510e-01,  4.90347490e-01,\n",
              "         2.43243243e-01,  3.55212355e-01,  4.01544402e-01,\n",
              "         2.83106871e-15,  4.22779923e-01,  5.77220077e-01,\n",
              "         4.99600361e-15,  7.41312741e-01,  1.33204633e-01,\n",
              "         1.25482625e-01],\n",
              "       [ 2.50434783e-01,  2.50434783e-01,  2.50434783e-01,\n",
              "         2.48695652e-01,  2.50434783e-01,  2.50434783e-01,\n",
              "         2.50434783e-01,  2.48695652e-01,  2.48695652e-01,\n",
              "         2.50434783e-01,  2.50434783e-01,  2.50434783e-01,\n",
              "         1.00000000e+00,  2.72004641e-15,  2.72004641e-15,\n",
              "         3.32173913e-01,  3.33913043e-01,  3.33913043e-01,\n",
              "         3.32173913e-01,  3.33913043e-01,  3.33913043e-01,\n",
              "         1.00000000e+00, -2.91433544e-15, -5.06539255e-16,\n",
              "         5.48172618e-16],\n",
              "       [ 1.79810726e-01,  1.95583596e-01,  2.83911672e-01,\n",
              "         3.40694006e-01,  1.95583596e-01,  1.95583596e-01,\n",
              "         2.68138801e-01,  3.40694006e-01,  2.87066246e-01,\n",
              "         2.46056782e-01,  2.33438486e-01,  2.33438486e-01,\n",
              "         3.27515792e-15,  4.92113565e-01,  5.07886435e-01,\n",
              "         4.06940063e-01,  3.15457413e-01,  2.77602524e-01,\n",
              "         6.05678233e-01,  2.60252366e-01,  1.34069401e-01,\n",
              "         1.00000000e+00, -1.91513472e-15, -5.41233725e-16,\n",
              "         5.75928194e-16]])"
            ]
          },
          "metadata": {},
          "execution_count": 19
        }
      ]
    },
    {
      "cell_type": "markdown",
      "metadata": {
        "id": "i22LrRNpqDSM"
      },
      "source": [
        "### 🧮 Cálculo do **WCSSE** - Within Cluster Sum of Squared Errors"
      ]
    },
    {
      "cell_type": "code",
      "metadata": {
        "colab": {
          "base_uri": "https://localhost:8080/"
        },
        "id": "h0qwxIhlp9vh",
        "outputId": "cfb230a7-a11f-4f47-c0e7-1a8425bdde9f"
      },
      "source": [
        "wcsse = []\n",
        "maxclusters = 11\n",
        "for i in range(1, maxclusters):\n",
        "    kmeans = KMeans(n_clusters = i, init = 'random')\n",
        "    kmeans.fit(df)\n",
        "    print (i,kmeans.inertia_)\n",
        "    wcsse.append(kmeans.inertia_)"
      ],
      "execution_count": null,
      "outputs": [
        {
          "output_type": "stream",
          "name": "stdout",
          "text": [
            "1 8129.7915460335835\n",
            "2 7253.8713956778465\n",
            "3 6752.1739148016095\n",
            "4 6433.7676228354485\n",
            "5 6171.478314068214\n",
            "6 6052.316363354266\n",
            "7 5871.459072743506\n",
            "8 5650.906791228573\n",
            "9 5567.961746985091\n",
            "10 5391.489747535211\n"
          ]
        }
      ]
    },
    {
      "cell_type": "markdown",
      "metadata": {
        "id": "_vWXEozBqW_j"
      },
      "source": [
        "### 💪🏻 Método de Elbow\n",
        "Plotagem do Gráfico para visualização do \"cotovelo\" - Método de Elbow.\n",
        "\n",
        "Ao final do Estudo do Metodo de Elbow a seguir, foram gerados 11 clusters."
      ]
    },
    {
      "cell_type": "code",
      "metadata": {
        "colab": {
          "base_uri": "https://localhost:8080/",
          "height": 295
        },
        "id": "23J-_-tkqSly",
        "outputId": "d975c62a-d459-49c9-f038-a4e0291fb1e6"
      },
      "source": [
        "plt.plot(range(1, maxclusters), wcsse)\n",
        "plt.title('Método de Elbow')\n",
        "plt.xlabel('Qtd. de Clusters')\n",
        "plt.ylabel('WCSSE') # Within Cluster Sum of Squares\n",
        "plt.show()"
      ],
      "execution_count": null,
      "outputs": [
        {
          "output_type": "display_data",
          "data": {
            "image/png": "[encoded data removed]",
            "text/plain": [
              "<Figure size 432x288 with 1 Axes>"
            ]
          },
          "metadata": {
            "needs_background": "light"
          }
        }
      ]
    },
    {
      "cell_type": "markdown",
      "metadata": {
        "id": "rsgpACg1qv1F"
      },
      "source": [
        "### 🔮 Previsões\n",
        "🚙 Para o carro 1 => 1, 1, 1, 1, 1, 1, 1, 1, 1, 1,1, 1, 1, 1, 1, 1, 1, 1, 1, 1, 1, 1, 1, 1, 1\n",
        "\n",
        "Qual grupo ele pertence?\n",
        "\n",
        "O comando predict nos traz o *cluster=5.\n",
        "\n",
        "*Obs: como os clusters são inicializados de forma randômica esse valor pode variar em cada execução realizada."
      ]
    },
    {
      "cell_type": "code",
      "metadata": {
        "colab": {
          "base_uri": "https://localhost:8080/"
        },
        "id": "guu7xd-FqqJW",
        "outputId": "fc2c3d58-f623-45a8-f924-adb9e056df66"
      },
      "source": [
        "newcustomer1= [ [1, 1, 1, 1, 1, 1, 1, 1, 1, 1,1, 1, 1, 1, 1, 1, 1, 1, 1, 1, 1, 1, 1, 1, 1] ]\n",
        "kmeans.predict(newcustomer1)"
      ],
      "execution_count": null,
      "outputs": [
        {
          "output_type": "execute_result",
          "data": {
            "text/plain": [
              "array([5], dtype=int32)"
            ]
          },
          "metadata": {},
          "execution_count": 23
        }
      ]
    },
    {
      "cell_type": "markdown",
      "metadata": {
        "id": "25tUax3urJsq"
      },
      "source": [
        "🚗 Para o carro 2 => 1, 0, 0, 0, 1, 1, 1, 1, 0, 1, 1, 0, 0, 0, 1, 1, 1, 1, 0, 1, 0, 1, 1, 0, 0\n",
        "\n",
        "Qual grupo ele pertence?\n",
        "\n",
        "O comando predict nos traz o *cluster=3.\n",
        "\n",
        "*Obs: como os clusters são inicializados de forma randômica esse valor pode variar em cada execução realizada."
      ]
    },
    {
      "cell_type": "code",
      "metadata": {
        "colab": {
          "base_uri": "https://localhost:8080/"
        },
        "id": "GvQfOXUvq_yF",
        "outputId": "4379aa56-b626-451d-e29e-006f7b5e20e5"
      },
      "source": [
        "newcustomer2 = [ [1, 0, 0, 0, 1, 1, 1, 1, 0, 1, 1, 0, 0, 0, 1, 1, 1, 1, 0, 1, 0, 1, 1, 0, 0] ]\n",
        "kmeans.predict(newcustomer2)"
      ],
      "execution_count": null,
      "outputs": [
        {
          "output_type": "execute_result",
          "data": {
            "text/plain": [
              "array([3], dtype=int32)"
            ]
          },
          "metadata": {},
          "execution_count": 24
        }
      ]
    }
  ]
}