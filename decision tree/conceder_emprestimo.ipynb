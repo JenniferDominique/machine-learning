{
  "nbformat": 4,
  "nbformat_minor": 0,
  "metadata": {
    "colab": {
      "name": "Árvore de decisão - Conceder empréstimo",
      "provenance": []
    },
    "kernelspec": {
      "name": "python3",
      "display_name": "Python 3"
    },
    "language_info": {
      "name": "python"
    }
  },
  "cells": [
    {
      "cell_type": "markdown",
      "metadata": {
        "id": "3qsSv4sa5hN6"
      },
      "source": [
        "# **🧪 Laboratório # 6**\n",
        "\n",
        "### ASSUNTO: 🌳 Árvore de decisão usando Python\n",
        "\n",
        "---\n",
        "\n"
      ]
    },
    {
      "cell_type": "markdown",
      "metadata": {
        "id": "4TeKwL_ETbSl"
      },
      "source": [
        "### 📚 Materiais de apoio\n",
        "\n",
        "- [Scikit Learn](http://scikit-learn.org/)\n",
        "- [Projeto Jupyter](http://jupyter.org/)\n",
        "- [Instalação do Jupyter](http://jupyter.org/install)\n",
        "- [Vídeo BEM introdutório sobre Jupyter](https://www.youtube.com/watch?v=m0FbNlhNyQ8)\n",
        "- [Vídeo interessante para Decision Tree em Python (inglês)](https://www.youtube.com/watch?v=303yUAhD_RE)\n",
        "- [Blog com 4 formas de Visualização de Árvores de Decisão](https://mljar.com/blog/visualize-decision-tree/)"
      ]
    },
    {
      "cell_type": "markdown",
      "metadata": {
        "id": "uLi9wuD_WPob"
      },
      "source": [
        "### 📥 Importando as bibliotecas\n",
        "\n",
        "\n",
        "\n"
      ]
    },
    {
      "cell_type": "code",
      "metadata": {
        "id": "qM9DW4DZ5Xae"
      },
      "source": [
        "import pandas as pd\n",
        "from sklearn.tree import DecisionTreeClassifier\n",
        "from sklearn import tree\n",
        "from matplotlib import pyplot as plt"
      ],
      "execution_count": null,
      "outputs": []
    },
    {
      "cell_type": "markdown",
      "metadata": {
        "id": "8sV_5No6WX59"
      },
      "source": [
        "### 📄 Lendo o arquivo com os dados\n",
        "\n",
        "Fazendo a leitura do arquivo que contém os dados (dataframe - df) que serão analisados nesse notebook."
      ]
    },
    {
      "cell_type": "code",
      "metadata": {
        "id": "_3In-S647aoo",
        "colab": {
          "base_uri": "https://localhost:8080/",
          "height": 503
        },
        "outputId": "16a8c446-663e-4d3e-de1b-efce2ce70734"
      },
      "source": [
        "# leitura de dados (CSV), separados por vírgula no nesse caso\n",
        "url = 'https://raw.githubusercontent.com/JenniferDominique/machine-learning/main/data/emprestimo.csv'\n",
        "\n",
        "df = pd.read_csv(url, delimiter=',', error_bad_lines=False)\n",
        "df #Exibindo todos os dados do dataframe"
      ],
      "execution_count": null,
      "outputs": [
        {
          "output_type": "execute_result",
          "data": {
            "text/html": [
              "<div>\n",
              "<style scoped>\n",
              "    .dataframe tbody tr th:only-of-type {\n",
              "        vertical-align: middle;\n",
              "    }\n",
              "\n",
              "    .dataframe tbody tr th {\n",
              "        vertical-align: top;\n",
              "    }\n",
              "\n",
              "    .dataframe thead th {\n",
              "        text-align: right;\n",
              "    }\n",
              "</style>\n",
              "<table border=\"1\" class=\"dataframe\">\n",
              "  <thead>\n",
              "    <tr style=\"text-align: right;\">\n",
              "      <th></th>\n",
              "      <th>montante</th>\n",
              "      <th>idade</th>\n",
              "      <th>salario</th>\n",
              "      <th>tem_conta</th>\n",
              "      <th>empresta</th>\n",
              "    </tr>\n",
              "  </thead>\n",
              "  <tbody>\n",
              "    <tr>\n",
              "      <th>0</th>\n",
              "      <td>Medio</td>\n",
              "      <td>Senior</td>\n",
              "      <td>Baixo</td>\n",
              "      <td>Sim</td>\n",
              "      <td>Nao</td>\n",
              "    </tr>\n",
              "    <tr>\n",
              "      <th>1</th>\n",
              "      <td>Medio</td>\n",
              "      <td>Senior</td>\n",
              "      <td>Baixo</td>\n",
              "      <td>Nao</td>\n",
              "      <td>Nao</td>\n",
              "    </tr>\n",
              "    <tr>\n",
              "      <th>2</th>\n",
              "      <td>Baixo</td>\n",
              "      <td>Senior</td>\n",
              "      <td>Baixo</td>\n",
              "      <td>Sim</td>\n",
              "      <td>Sim</td>\n",
              "    </tr>\n",
              "    <tr>\n",
              "      <th>3</th>\n",
              "      <td>Alto</td>\n",
              "      <td>Media</td>\n",
              "      <td>Baixo</td>\n",
              "      <td>Sim</td>\n",
              "      <td>Sim</td>\n",
              "    </tr>\n",
              "    <tr>\n",
              "      <th>4</th>\n",
              "      <td>Alto</td>\n",
              "      <td>Jovem</td>\n",
              "      <td>Alto</td>\n",
              "      <td>Sim</td>\n",
              "      <td>Sim</td>\n",
              "    </tr>\n",
              "    <tr>\n",
              "      <th>5</th>\n",
              "      <td>Alto</td>\n",
              "      <td>Jovem</td>\n",
              "      <td>Alto</td>\n",
              "      <td>Nao</td>\n",
              "      <td>Nao</td>\n",
              "    </tr>\n",
              "    <tr>\n",
              "      <th>6</th>\n",
              "      <td>Baixo</td>\n",
              "      <td>Jovem</td>\n",
              "      <td>Alto</td>\n",
              "      <td>Nao</td>\n",
              "      <td>Sim</td>\n",
              "    </tr>\n",
              "    <tr>\n",
              "      <th>7</th>\n",
              "      <td>Medio</td>\n",
              "      <td>Media</td>\n",
              "      <td>Baixo</td>\n",
              "      <td>Sim</td>\n",
              "      <td>Nao</td>\n",
              "    </tr>\n",
              "    <tr>\n",
              "      <th>8</th>\n",
              "      <td>Medio</td>\n",
              "      <td>Jovem</td>\n",
              "      <td>Alto</td>\n",
              "      <td>Sim</td>\n",
              "      <td>Sim</td>\n",
              "    </tr>\n",
              "    <tr>\n",
              "      <th>9</th>\n",
              "      <td>Alto</td>\n",
              "      <td>Media</td>\n",
              "      <td>Alto</td>\n",
              "      <td>Sim</td>\n",
              "      <td>Sim</td>\n",
              "    </tr>\n",
              "    <tr>\n",
              "      <th>10</th>\n",
              "      <td>Medio</td>\n",
              "      <td>Media</td>\n",
              "      <td>Alto</td>\n",
              "      <td>Nao</td>\n",
              "      <td>Sim</td>\n",
              "    </tr>\n",
              "    <tr>\n",
              "      <th>11</th>\n",
              "      <td>Baixo</td>\n",
              "      <td>Jovem</td>\n",
              "      <td>Baixo</td>\n",
              "      <td>Nao</td>\n",
              "      <td>Sim</td>\n",
              "    </tr>\n",
              "    <tr>\n",
              "      <th>12</th>\n",
              "      <td>Baixo</td>\n",
              "      <td>Senior</td>\n",
              "      <td>Alto</td>\n",
              "      <td>Sim</td>\n",
              "      <td>Sim</td>\n",
              "    </tr>\n",
              "    <tr>\n",
              "      <th>13</th>\n",
              "      <td>Alto</td>\n",
              "      <td>Media</td>\n",
              "      <td>Baixo</td>\n",
              "      <td>Nao</td>\n",
              "      <td>Nao</td>\n",
              "    </tr>\n",
              "  </tbody>\n",
              "</table>\n",
              "</div>"
            ],
            "text/plain": [
              "   montante   idade salario tem_conta empresta\n",
              "0     Medio  Senior   Baixo       Sim      Nao\n",
              "1     Medio  Senior   Baixo       Nao      Nao\n",
              "2     Baixo  Senior   Baixo       Sim      Sim\n",
              "3      Alto   Media   Baixo       Sim      Sim\n",
              "4      Alto   Jovem    Alto       Sim      Sim\n",
              "5      Alto   Jovem    Alto       Nao      Nao\n",
              "6     Baixo   Jovem    Alto       Nao      Sim\n",
              "7     Medio   Media   Baixo       Sim      Nao\n",
              "8     Medio   Jovem    Alto       Sim      Sim\n",
              "9      Alto   Media    Alto       Sim      Sim\n",
              "10    Medio   Media    Alto       Nao      Sim\n",
              "11    Baixo   Jovem   Baixo       Nao      Sim\n",
              "12    Baixo  Senior    Alto       Sim      Sim\n",
              "13     Alto   Media   Baixo       Nao      Nao"
            ]
          },
          "metadata": {},
          "execution_count": 2
        }
      ]
    },
    {
      "cell_type": "markdown",
      "metadata": {
        "id": "Y-JW_U-SX6SX"
      },
      "source": [
        "### 🖥 Definição e transformação de dados de classes\n",
        "\n",
        "Codificando as informações para 0 (não) e 1 (sim) para a identificação se o dia está bom para jogar tênis ou não."
      ]
    },
    {
      "cell_type": "code",
      "metadata": {
        "id": "q1m8gUcSfSsJ",
        "colab": {
          "base_uri": "https://localhost:8080/"
        },
        "outputId": "3cced050-3b3b-4a64-e983-e7856503b8f8"
      },
      "source": [
        "# factorize – codifica os valores categóricos – árvore de decisão do Python precisa de dados numéricos\n",
        "df['empresta'],class_names = pd.factorize(df['empresta']) # Nao=0; Sim=1\n",
        "print(class_names)\n",
        "print(df['empresta'].unique())\n"
      ],
      "execution_count": null,
      "outputs": [
        {
          "output_type": "stream",
          "name": "stdout",
          "text": [
            "Index(['Nao', 'Sim'], dtype='object')\n",
            "[0 1]\n"
          ]
        }
      ]
    },
    {
      "cell_type": "code",
      "metadata": {
        "colab": {
          "base_uri": "https://localhost:8080/"
        },
        "id": "bWAbWYwRX3Zs",
        "outputId": "fc11ef9b-95a2-488a-fe50-e41c40d7b47d"
      },
      "source": [
        "df['montante'],_ = pd.factorize(df['montante']) # Medio=0; Baixo=1; Alto=2\n",
        "print(df['montante'].unique())"
      ],
      "execution_count": null,
      "outputs": [
        {
          "output_type": "stream",
          "name": "stdout",
          "text": [
            "[0 1 2]\n"
          ]
        }
      ]
    },
    {
      "cell_type": "code",
      "metadata": {
        "colab": {
          "base_uri": "https://localhost:8080/"
        },
        "id": "alZ6EYMGYOl1",
        "outputId": "19ec4545-4f1a-4c27-e1ec-c47343409d3f"
      },
      "source": [
        "df['idade'],_ = pd.factorize(df['idade']) # Senior=0; Media=1; Jovem=2\n",
        "print(df['idade'].unique())"
      ],
      "execution_count": null,
      "outputs": [
        {
          "output_type": "stream",
          "name": "stdout",
          "text": [
            "[0 1 2]\n"
          ]
        }
      ]
    },
    {
      "cell_type": "code",
      "metadata": {
        "colab": {
          "base_uri": "https://localhost:8080/"
        },
        "id": "RB0NaGYgYRpm",
        "outputId": "07cfb436-69d1-4884-f72c-22d4d43b2202"
      },
      "source": [
        "df['salario'],_ = pd.factorize(df['salario']) # Baixo=0; Alto=1\n",
        "print(df['salario'].unique())"
      ],
      "execution_count": null,
      "outputs": [
        {
          "output_type": "stream",
          "name": "stdout",
          "text": [
            "[0 1]\n"
          ]
        }
      ]
    },
    {
      "cell_type": "code",
      "metadata": {
        "colab": {
          "base_uri": "https://localhost:8080/"
        },
        "id": "vmZ_BTThYVGz",
        "outputId": "727ed186-6b34-4fd9-db8b-ef2551ecf214"
      },
      "source": [
        "df['tem_conta'],_ = pd.factorize(df['tem_conta']) # Sim=0; Nao=1\n",
        "print(df['tem_conta'].unique())"
      ],
      "execution_count": null,
      "outputs": [
        {
          "output_type": "stream",
          "name": "stdout",
          "text": [
            "[0 1]\n"
          ]
        }
      ]
    },
    {
      "cell_type": "code",
      "metadata": {
        "colab": {
          "base_uri": "https://localhost:8080/",
          "height": 503
        },
        "id": "LsDto-SiYXrk",
        "outputId": "0d3a20f5-b5ff-4f4a-80de-c9986d867179"
      },
      "source": [
        "# mostra todo o dataset transformado para numérico\n",
        "df"
      ],
      "execution_count": null,
      "outputs": [
        {
          "output_type": "execute_result",
          "data": {
            "text/html": [
              "<div>\n",
              "<style scoped>\n",
              "    .dataframe tbody tr th:only-of-type {\n",
              "        vertical-align: middle;\n",
              "    }\n",
              "\n",
              "    .dataframe tbody tr th {\n",
              "        vertical-align: top;\n",
              "    }\n",
              "\n",
              "    .dataframe thead th {\n",
              "        text-align: right;\n",
              "    }\n",
              "</style>\n",
              "<table border=\"1\" class=\"dataframe\">\n",
              "  <thead>\n",
              "    <tr style=\"text-align: right;\">\n",
              "      <th></th>\n",
              "      <th>montante</th>\n",
              "      <th>idade</th>\n",
              "      <th>salario</th>\n",
              "      <th>tem_conta</th>\n",
              "      <th>empresta</th>\n",
              "    </tr>\n",
              "  </thead>\n",
              "  <tbody>\n",
              "    <tr>\n",
              "      <th>0</th>\n",
              "      <td>0</td>\n",
              "      <td>0</td>\n",
              "      <td>0</td>\n",
              "      <td>0</td>\n",
              "      <td>0</td>\n",
              "    </tr>\n",
              "    <tr>\n",
              "      <th>1</th>\n",
              "      <td>0</td>\n",
              "      <td>0</td>\n",
              "      <td>0</td>\n",
              "      <td>1</td>\n",
              "      <td>0</td>\n",
              "    </tr>\n",
              "    <tr>\n",
              "      <th>2</th>\n",
              "      <td>1</td>\n",
              "      <td>0</td>\n",
              "      <td>0</td>\n",
              "      <td>0</td>\n",
              "      <td>1</td>\n",
              "    </tr>\n",
              "    <tr>\n",
              "      <th>3</th>\n",
              "      <td>2</td>\n",
              "      <td>1</td>\n",
              "      <td>0</td>\n",
              "      <td>0</td>\n",
              "      <td>1</td>\n",
              "    </tr>\n",
              "    <tr>\n",
              "      <th>4</th>\n",
              "      <td>2</td>\n",
              "      <td>2</td>\n",
              "      <td>1</td>\n",
              "      <td>0</td>\n",
              "      <td>1</td>\n",
              "    </tr>\n",
              "    <tr>\n",
              "      <th>5</th>\n",
              "      <td>2</td>\n",
              "      <td>2</td>\n",
              "      <td>1</td>\n",
              "      <td>1</td>\n",
              "      <td>0</td>\n",
              "    </tr>\n",
              "    <tr>\n",
              "      <th>6</th>\n",
              "      <td>1</td>\n",
              "      <td>2</td>\n",
              "      <td>1</td>\n",
              "      <td>1</td>\n",
              "      <td>1</td>\n",
              "    </tr>\n",
              "    <tr>\n",
              "      <th>7</th>\n",
              "      <td>0</td>\n",
              "      <td>1</td>\n",
              "      <td>0</td>\n",
              "      <td>0</td>\n",
              "      <td>0</td>\n",
              "    </tr>\n",
              "    <tr>\n",
              "      <th>8</th>\n",
              "      <td>0</td>\n",
              "      <td>2</td>\n",
              "      <td>1</td>\n",
              "      <td>0</td>\n",
              "      <td>1</td>\n",
              "    </tr>\n",
              "    <tr>\n",
              "      <th>9</th>\n",
              "      <td>2</td>\n",
              "      <td>1</td>\n",
              "      <td>1</td>\n",
              "      <td>0</td>\n",
              "      <td>1</td>\n",
              "    </tr>\n",
              "    <tr>\n",
              "      <th>10</th>\n",
              "      <td>0</td>\n",
              "      <td>1</td>\n",
              "      <td>1</td>\n",
              "      <td>1</td>\n",
              "      <td>1</td>\n",
              "    </tr>\n",
              "    <tr>\n",
              "      <th>11</th>\n",
              "      <td>1</td>\n",
              "      <td>2</td>\n",
              "      <td>0</td>\n",
              "      <td>1</td>\n",
              "      <td>1</td>\n",
              "    </tr>\n",
              "    <tr>\n",
              "      <th>12</th>\n",
              "      <td>1</td>\n",
              "      <td>0</td>\n",
              "      <td>1</td>\n",
              "      <td>0</td>\n",
              "      <td>1</td>\n",
              "    </tr>\n",
              "    <tr>\n",
              "      <th>13</th>\n",
              "      <td>2</td>\n",
              "      <td>1</td>\n",
              "      <td>0</td>\n",
              "      <td>1</td>\n",
              "      <td>0</td>\n",
              "    </tr>\n",
              "  </tbody>\n",
              "</table>\n",
              "</div>"
            ],
            "text/plain": [
              "    montante  idade  salario  tem_conta  empresta\n",
              "0          0      0        0          0         0\n",
              "1          0      0        0          1         0\n",
              "2          1      0        0          0         1\n",
              "3          2      1        0          0         1\n",
              "4          2      2        1          0         1\n",
              "5          2      2        1          1         0\n",
              "6          1      2        1          1         1\n",
              "7          0      1        0          0         0\n",
              "8          0      2        1          0         1\n",
              "9          2      1        1          0         1\n",
              "10         0      1        1          1         1\n",
              "11         1      2        0          1         1\n",
              "12         1      0        1          0         1\n",
              "13         2      1        0          1         0"
            ]
          },
          "metadata": {},
          "execution_count": 8
        }
      ]
    },
    {
      "cell_type": "code",
      "metadata": {
        "colab": {
          "base_uri": "https://localhost:8080/",
          "height": 224
        },
        "id": "VgdSaK7BYZ4v",
        "outputId": "8539ae8f-c7e1-49d5-ae9c-bd8f8946e9b1"
      },
      "source": [
        "# mostra as primeiras linhas do dataset (útil em caso de grandes datasets)\n",
        "df.head()"
      ],
      "execution_count": null,
      "outputs": [
        {
          "output_type": "execute_result",
          "data": {
            "text/html": [
              "<div>\n",
              "<style scoped>\n",
              "    .dataframe tbody tr th:only-of-type {\n",
              "        vertical-align: middle;\n",
              "    }\n",
              "\n",
              "    .dataframe tbody tr th {\n",
              "        vertical-align: top;\n",
              "    }\n",
              "\n",
              "    .dataframe thead th {\n",
              "        text-align: right;\n",
              "    }\n",
              "</style>\n",
              "<table border=\"1\" class=\"dataframe\">\n",
              "  <thead>\n",
              "    <tr style=\"text-align: right;\">\n",
              "      <th></th>\n",
              "      <th>montante</th>\n",
              "      <th>idade</th>\n",
              "      <th>salario</th>\n",
              "      <th>tem_conta</th>\n",
              "      <th>empresta</th>\n",
              "    </tr>\n",
              "  </thead>\n",
              "  <tbody>\n",
              "    <tr>\n",
              "      <th>0</th>\n",
              "      <td>0</td>\n",
              "      <td>0</td>\n",
              "      <td>0</td>\n",
              "      <td>0</td>\n",
              "      <td>0</td>\n",
              "    </tr>\n",
              "    <tr>\n",
              "      <th>1</th>\n",
              "      <td>0</td>\n",
              "      <td>0</td>\n",
              "      <td>0</td>\n",
              "      <td>1</td>\n",
              "      <td>0</td>\n",
              "    </tr>\n",
              "    <tr>\n",
              "      <th>2</th>\n",
              "      <td>1</td>\n",
              "      <td>0</td>\n",
              "      <td>0</td>\n",
              "      <td>0</td>\n",
              "      <td>1</td>\n",
              "    </tr>\n",
              "    <tr>\n",
              "      <th>3</th>\n",
              "      <td>2</td>\n",
              "      <td>1</td>\n",
              "      <td>0</td>\n",
              "      <td>0</td>\n",
              "      <td>1</td>\n",
              "    </tr>\n",
              "    <tr>\n",
              "      <th>4</th>\n",
              "      <td>2</td>\n",
              "      <td>2</td>\n",
              "      <td>1</td>\n",
              "      <td>0</td>\n",
              "      <td>1</td>\n",
              "    </tr>\n",
              "  </tbody>\n",
              "</table>\n",
              "</div>"
            ],
            "text/plain": [
              "   montante  idade  salario  tem_conta  empresta\n",
              "0         0      0        0          0         0\n",
              "1         0      0        0          1         0\n",
              "2         1      0        0          0         1\n",
              "3         2      1        0          0         1\n",
              "4         2      2        1          0         1"
            ]
          },
          "metadata": {},
          "execution_count": 9
        }
      ]
    },
    {
      "cell_type": "code",
      "metadata": {
        "colab": {
          "base_uri": "https://localhost:8080/"
        },
        "id": "eWp9vIE7YddR",
        "outputId": "e6d967a8-3695-412e-b868-90c6cedb9c8f"
      },
      "source": [
        "# mostra informações básicas do dataset como quais colunas (e seus tipos) e uso de memória\n",
        "df.info()"
      ],
      "execution_count": null,
      "outputs": [
        {
          "output_type": "stream",
          "name": "stdout",
          "text": [
            "<class 'pandas.core.frame.DataFrame'>\n",
            "RangeIndex: 14 entries, 0 to 13\n",
            "Data columns (total 5 columns):\n",
            " #   Column     Non-Null Count  Dtype\n",
            "---  ------     --------------  -----\n",
            " 0   montante   14 non-null     int64\n",
            " 1   idade      14 non-null     int64\n",
            " 2   salario    14 non-null     int64\n",
            " 3   tem_conta  14 non-null     int64\n",
            " 4   empresta   14 non-null     int64\n",
            "dtypes: int64(5)\n",
            "memory usage: 688.0 bytes\n"
          ]
        }
      ]
    },
    {
      "cell_type": "markdown",
      "metadata": {
        "id": "mhLYCJlVY7jc"
      },
      "source": [
        "### ⚙ Treinamento de testes"
      ]
    },
    {
      "cell_type": "markdown",
      "metadata": {
        "id": "6y_kUvuKabFQ"
      },
      "source": [
        "#### 1️⃣ Abordagem \n",
        "Os mesmos dados que estão sendo usados para o trienamento serão usados para testes (overcasting)."
      ]
    },
    {
      "cell_type": "code",
      "metadata": {
        "id": "tFwoJpiSYgCw"
      },
      "source": [
        "# Variáveis X são as colunas features e Variáveis Y trata-se da coluna target\n",
        "# separa as colunas de features (colunas com os dados)\n",
        "feature_cols = ['montante','idade','salario','tem_conta']\n",
        "X_train = df[feature_cols]   # Features (conj. dados)"
      ],
      "execution_count": null,
      "outputs": []
    },
    {
      "cell_type": "code",
      "metadata": {
        "id": "MBSrN6VBakM2"
      },
      "source": [
        "# separa a coluna target (colunas com os dados das classes)\n",
        "y_train = df.empresta  # Target variable (conj. dados)"
      ],
      "execution_count": null,
      "outputs": []
    },
    {
      "cell_type": "code",
      "metadata": {
        "colab": {
          "base_uri": "https://localhost:8080/",
          "height": 191
        },
        "id": "2Jm6f7f4aoEY",
        "outputId": "7563a3f9-5f84-4c07-a742-32b29a3f9ab2"
      },
      "source": [
        "# mostra as colunas separadas para treinamento\n",
        "X_train.columns   # nomes das colunas features para treinamento\n",
        "df.columns[4]     # nome da coluna targer para treinamento"
      ],
      "execution_count": null,
      "outputs": [
        {
          "output_type": "execute_result",
          "data": {
            "application/vnd.google.colaboratory.intrinsic+json": {
              "type": "string"
            },
            "text/plain": [
              "'empresta'"
            ]
          },
          "metadata": {},
          "execution_count": 13
        }
      ]
    },
    {
      "cell_type": "code",
      "metadata": {
        "id": "dBSUCbm_avAJ"
      },
      "source": [
        "# constrói o modelo usando critério “Entropia”\n",
        "clf = DecisionTreeClassifier(criterion='entropy')"
      ],
      "execution_count": null,
      "outputs": []
    },
    {
      "cell_type": "code",
      "metadata": {
        "id": "bnGkrjrMazS7"
      },
      "source": [
        "# treina o modelo – observe que nessa abordagem está usando os mesmos dados para treinamento e testes (sem separação)\n",
        "clf = clf.fit(X_train,y_train)"
      ],
      "execution_count": null,
      "outputs": []
    },
    {
      "cell_type": "code",
      "metadata": {
        "colab": {
          "base_uri": "https://localhost:8080/"
        },
        "id": "xhMEUzeYa11L",
        "outputId": "edcba247-8969-47d4-a218-22eeb06dc0a3"
      },
      "source": [
        "# mostra modelo processado\n",
        "clf"
      ],
      "execution_count": null,
      "outputs": [
        {
          "output_type": "execute_result",
          "data": {
            "text/plain": [
              "DecisionTreeClassifier(ccp_alpha=0.0, class_weight=None, criterion='entropy',\n",
              "                       max_depth=None, max_features=None, max_leaf_nodes=None,\n",
              "                       min_impurity_decrease=0.0, min_impurity_split=None,\n",
              "                       min_samples_leaf=1, min_samples_split=2,\n",
              "                       min_weight_fraction_leaf=0.0, presort='deprecated',\n",
              "                       random_state=None, splitter='best')"
            ]
          },
          "metadata": {},
          "execution_count": 16
        }
      ]
    },
    {
      "cell_type": "code",
      "metadata": {
        "colab": {
          "base_uri": "https://localhost:8080/",
          "height": 575
        },
        "id": "2-yT8sz0a4OJ",
        "outputId": "959778bc-be4f-4171-8791-66f67c101269"
      },
      "source": [
        "# mostra a árvore\n",
        "fig1 = plt.figure(figsize=(10,10))\n",
        "_ = tree.plot_tree(clf, feature_names=X_train.columns,class_names=df.columns[4], filled=True)\n",
        "fig1.savefig(\"fig1.png\")"
      ],
      "execution_count": null,
      "outputs": [
        {
          "output_type": "display_data",
          "data": {
            "image/png": "[encoded data removed]",
            "text/plain": [
              "<Figure size 720x720 with 1 Axes>"
            ]
          },
          "metadata": {
            "needs_background": "light"
          }
        }
      ]
    },
    {
      "cell_type": "markdown",
      "metadata": {
        "id": "W2Uo2lBybJlS"
      },
      "source": [
        "#### 2️⃣ Abordagem \n",
        "Serão separados 70% dos dados do arquivo para treinamento do algoritmo e os outros 30% para a execução do teste."
      ]
    },
    {
      "cell_type": "code",
      "metadata": {
        "id": "ws8IdILXa8RY"
      },
      "source": [
        "# separa as colunas de features (colunas com os dados)\n",
        "feature_cols = ['montante','idade','salario','tem_conta']\n",
        "X_train = df[feature_cols]   # Features (conj. dados)"
      ],
      "execution_count": null,
      "outputs": []
    },
    {
      "cell_type": "code",
      "metadata": {
        "id": "WCh_4uMabsVB"
      },
      "source": [
        "# separa a coluna target (colunas com os dados das classes)\n",
        "y_train = df.empresta   # Target variable (conj. dados)"
      ],
      "execution_count": null,
      "outputs": []
    },
    {
      "cell_type": "markdown",
      "metadata": {
        "id": "0yfD65Vjct1L"
      },
      "source": [
        "##### 📥 Importando ***train_test_split***\n",
        "\n",
        "Uso do Modelo para fazer Classificações com os dados de Testes. </br>\n",
        "Para funcionar, deve ser importada a biblioteca:"
      ]
    },
    {
      "cell_type": "code",
      "metadata": {
        "id": "SYcyTCGxbvs5"
      },
      "source": [
        "from sklearn.model_selection import train_test_split"
      ],
      "execution_count": null,
      "outputs": []
    },
    {
      "cell_type": "code",
      "metadata": {
        "id": "MooIx4gmbzZP"
      },
      "source": [
        "# Separação de dados para Treinamento (train) e Testes (test); Variáveis X são as colunas features e Variáveis Y trata-se da coluna target\n",
        "X_train, X_test, y_train, y_test = train_test_split(X_train, y_train, test_size=0.3, random_state=1)"
      ],
      "execution_count": null,
      "outputs": []
    },
    {
      "cell_type": "code",
      "metadata": {
        "colab": {
          "base_uri": "https://localhost:8080/",
          "height": 204
        },
        "id": "WibdvW7Nb1On",
        "outputId": "87c0e810-65ae-4014-ca74-822f90121e7b"
      },
      "source": [
        "# Visualização dos dados de Treinamento e Testes, já separados\n",
        "X_train\n",
        "X_test"
      ],
      "execution_count": null,
      "outputs": [
        {
          "output_type": "execute_result",
          "data": {
            "text/html": [
              "<div>\n",
              "<style scoped>\n",
              "    .dataframe tbody tr th:only-of-type {\n",
              "        vertical-align: middle;\n",
              "    }\n",
              "\n",
              "    .dataframe tbody tr th {\n",
              "        vertical-align: top;\n",
              "    }\n",
              "\n",
              "    .dataframe thead th {\n",
              "        text-align: right;\n",
              "    }\n",
              "</style>\n",
              "<table border=\"1\" class=\"dataframe\">\n",
              "  <thead>\n",
              "    <tr style=\"text-align: right;\">\n",
              "      <th></th>\n",
              "      <th>montante</th>\n",
              "      <th>idade</th>\n",
              "      <th>salario</th>\n",
              "      <th>tem_conta</th>\n",
              "    </tr>\n",
              "  </thead>\n",
              "  <tbody>\n",
              "    <tr>\n",
              "      <th>3</th>\n",
              "      <td>2</td>\n",
              "      <td>1</td>\n",
              "      <td>0</td>\n",
              "      <td>0</td>\n",
              "    </tr>\n",
              "    <tr>\n",
              "      <th>7</th>\n",
              "      <td>0</td>\n",
              "      <td>1</td>\n",
              "      <td>0</td>\n",
              "      <td>0</td>\n",
              "    </tr>\n",
              "    <tr>\n",
              "      <th>6</th>\n",
              "      <td>1</td>\n",
              "      <td>2</td>\n",
              "      <td>1</td>\n",
              "      <td>1</td>\n",
              "    </tr>\n",
              "    <tr>\n",
              "      <th>2</th>\n",
              "      <td>1</td>\n",
              "      <td>0</td>\n",
              "      <td>0</td>\n",
              "      <td>0</td>\n",
              "    </tr>\n",
              "    <tr>\n",
              "      <th>10</th>\n",
              "      <td>0</td>\n",
              "      <td>1</td>\n",
              "      <td>1</td>\n",
              "      <td>1</td>\n",
              "    </tr>\n",
              "  </tbody>\n",
              "</table>\n",
              "</div>"
            ],
            "text/plain": [
              "    montante  idade  salario  tem_conta\n",
              "3          2      1        0          0\n",
              "7          0      1        0          0\n",
              "6          1      2        1          1\n",
              "2          1      0        0          0\n",
              "10         0      1        1          1"
            ]
          },
          "metadata": {},
          "execution_count": 22
        }
      ]
    },
    {
      "cell_type": "code",
      "metadata": {
        "id": "sbl6q7K5b3-G"
      },
      "source": [
        "# constrói o modelo usando critério “Entropia”\n",
        "clf = DecisionTreeClassifier(criterion='entropy')"
      ],
      "execution_count": null,
      "outputs": []
    },
    {
      "cell_type": "code",
      "metadata": {
        "id": "d-egjzZdb69y"
      },
      "source": [
        "# treina o modelo – observe que nessa abordagem está usando os mesmos dados para treinamento e testes (sem separação)\n",
        "clf = clf.fit(X_train,y_train)"
      ],
      "execution_count": null,
      "outputs": []
    },
    {
      "cell_type": "code",
      "metadata": {
        "colab": {
          "base_uri": "https://localhost:8080/"
        },
        "id": "aNuOykH6b9FM",
        "outputId": "55bac67e-0514-425b-81fa-a2960cea5004"
      },
      "source": [
        "# mostra modelo processado\n",
        "clf"
      ],
      "execution_count": null,
      "outputs": [
        {
          "output_type": "execute_result",
          "data": {
            "text/plain": [
              "DecisionTreeClassifier(ccp_alpha=0.0, class_weight=None, criterion='entropy',\n",
              "                       max_depth=None, max_features=None, max_leaf_nodes=None,\n",
              "                       min_impurity_decrease=0.0, min_impurity_split=None,\n",
              "                       min_samples_leaf=1, min_samples_split=2,\n",
              "                       min_weight_fraction_leaf=0.0, presort='deprecated',\n",
              "                       random_state=None, splitter='best')"
            ]
          },
          "metadata": {},
          "execution_count": 25
        }
      ]
    },
    {
      "cell_type": "code",
      "metadata": {
        "colab": {
          "base_uri": "https://localhost:8080/",
          "height": 575
        },
        "id": "PA4J_6rIb-vg",
        "outputId": "c01e53c6-12cd-43b2-c590-31c80cba0dac"
      },
      "source": [
        "# mostra a árvore\n",
        "fig2 = plt.figure(figsize=(10,10))\n",
        "_ = tree.plot_tree(clf, feature_names=X_train.columns,class_names=df.columns[4], filled=True)\n",
        "fig2.savefig(\"fig2.png\")"
      ],
      "execution_count": null,
      "outputs": [
        {
          "output_type": "display_data",
          "data": {
            "image/png": "[encoded data removed]",
            "text/plain": [
              "<Figure size 720x720 with 1 Axes>"
            ]
          },
          "metadata": {
            "needs_background": "light"
          }
        }
      ]
    },
    {
      "cell_type": "code",
      "metadata": {
        "id": "qQzdbSxucBcW"
      },
      "source": [
        "# uso do modelo para fazer predições (classificações) com os dados de testes\n",
        "y_pred = clf.predict(X_test)"
      ],
      "execution_count": null,
      "outputs": []
    },
    {
      "cell_type": "markdown",
      "metadata": {
        "id": "lU65Mg89dF5O"
      },
      "source": [
        "##### 📥 Importando ***metrics***\n",
        "\n",
        "Para saber como o nosso modelo permofou é necessário importar a seguinte biblioteca:"
      ]
    },
    {
      "cell_type": "code",
      "metadata": {
        "id": "3_id7WMCcDp2"
      },
      "source": [
        "from sklearn import metrics"
      ],
      "execution_count": null,
      "outputs": []
    },
    {
      "cell_type": "code",
      "metadata": {
        "colab": {
          "base_uri": "https://localhost:8080/"
        },
        "id": "qLU8kD_dcHIy",
        "outputId": "c9556b48-164f-4f16-ff2c-8559c938c28a"
      },
      "source": [
        "count_misclassified = (y_test != y_pred).sum()\n",
        "print('Amostras erroneamente classificadas: {}'.format(count_misclassified))\n",
        "accuracy = metrics.accuracy_score(y_test, y_pred)\n",
        "print('Acuracia: {:.2f}'.format(accuracy))"
      ],
      "execution_count": null,
      "outputs": [
        {
          "output_type": "stream",
          "name": "stdout",
          "text": [
            "Amostras erroneamente classificadas: 4\n",
            "Acuracia: 0.20\n"
          ]
        }
      ]
    },
    {
      "cell_type": "markdown",
      "metadata": {
        "id": "NhbqEeuZdame"
      },
      "source": [
        "##### 📥 Importando ***numpy***\n",
        "\n",
        "Para testar uma amostra específica é necessário importar a seguinte bibloteca:"
      ]
    },
    {
      "cell_type": "code",
      "metadata": {
        "id": "GFQkJRefcNhU"
      },
      "source": [
        "import numpy as np"
      ],
      "execution_count": null,
      "outputs": []
    },
    {
      "cell_type": "code",
      "metadata": {
        "colab": {
          "base_uri": "https://localhost:8080/"
        },
        "id": "n-TpRnIzcUig",
        "outputId": "7dd1db47-42b7-4037-8ace-fd79b9fe16f7"
      },
      "source": [
        "# Para a Entrada montante=1 ; idade=0; salario=1; tem_conta=0\n",
        "# Qual a classe (saída)?\n",
        "W_test = np.array ([[1, 0, 1, 0]]) \n",
        "y_pred = clf.predict(W_test)\n",
        "y_pred\n",
        "# Resposta: 1 (Yes) - "
      ],
      "execution_count": null,
      "outputs": [
        {
          "output_type": "execute_result",
          "data": {
            "text/plain": [
              "array([1])"
            ]
          },
          "metadata": {},
          "execution_count": 31
        }
      ]
    }
  ]
}
